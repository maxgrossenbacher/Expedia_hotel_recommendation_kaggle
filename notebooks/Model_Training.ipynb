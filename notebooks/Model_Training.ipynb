{
 "cells": [
  {
   "cell_type": "code",
   "execution_count": 198,
   "metadata": {},
   "outputs": [],
   "source": [
    "import pandas as pd\n",
    "import numpy as np\n",
    "import random\n",
    "import numpy as np\n",
    "import pickle\n",
    "import xgboost as xgb\n",
    "import matplotlib.pyplot as plt\n",
    "from google.cloud import storage\n",
    "from io import BytesIO\n",
    "try:\n",
    "  from StringIO import StringIO\n",
    "except ImportError:\n",
    "  from io import BytesIO as StringIO"
   ]
  },
  {
   "cell_type": "code",
   "execution_count": 188,
   "metadata": {},
   "outputs": [
    {
     "data": {
      "text/plain": [
       "'/Users/maxgrossenbacher/Documents/DELVE_projects/Expedia_hotel_recommendation_kaggle/notebooks'"
      ]
     },
     "execution_count": 188,
     "metadata": {},
     "output_type": "execute_result"
    }
   ],
   "source": [
    "%pwd"
   ]
  },
  {
   "cell_type": "code",
   "execution_count": 189,
   "metadata": {},
   "outputs": [],
   "source": [
    "destination_df = pd.read_csv('../data/destinations.csv')"
   ]
  },
  {
   "cell_type": "code",
   "execution_count": 199,
   "metadata": {},
   "outputs": [],
   "source": [
    "test_df = pd.read_csv('../data/test.csv')"
   ]
  },
  {
   "cell_type": "code",
   "execution_count": 146,
   "metadata": {},
   "outputs": [],
   "source": [
    "train_df = pd.read_csv('../data/train.csv')"
   ]
  },
  {
   "cell_type": "code",
   "execution_count": 200,
   "metadata": {},
   "outputs": [],
   "source": [
    "test_df[\"date_time\"] = pd.to_datetime(test_df[\"date_time\"])\n",
    "test_df[\"year\"] = test_df[\"date_time\"].dt.year\n",
    "test_df[\"month\"] = test_df[\"date_time\"].dt.month\n",
    "\n",
    "train_df[\"date_time\"] = pd.to_datetime(train_df[\"date_time\"])\n",
    "train_df[\"year\"] = train_df[\"date_time\"].dt.year\n",
    "train_df[\"month\"] = train_df[\"date_time\"].dt.month"
   ]
  },
  {
   "cell_type": "code",
   "execution_count": 201,
   "metadata": {},
   "outputs": [
    {
     "name": "stdout",
     "output_type": "stream",
     "text": [
      "1198786 unique users training data\n",
      "1181577 unique users testing data\n",
      "True: the user_id in train set the same as the user_id in test set.\n"
     ]
    }
   ],
   "source": [
    "#check number of unique user_ids\n",
    "print('{} unique users training data'.format(train_df['user_id'].nunique()))\n",
    "print('{} unique users testing data'.format(test_df['user_id'].nunique()))\n",
    "#check is user_ids in test is the same as user_ids in train\n",
    "train_ids = set(train_df['user_id'].unique())\n",
    "test_ids = set(test_df['user_id'].unique())\n",
    "intersection_count = len(train_ids & test_ids)\n",
    "print('{}: the user_id in train set the same as the user_id in test set.' .format(\n",
    "    intersection_count == len(test_ids)))"
   ]
  },
  {
   "cell_type": "code",
   "execution_count": 149,
   "metadata": {},
   "outputs": [
    {
     "name": "stdout",
     "output_type": "stream",
     "text": [
      "The min year in the train set is 2013.\n",
      "The max year in the train set is 2014.\n",
      "The min year in the test set is 2015.\n",
      "The max year in the test set is 2015.\n"
     ]
    }
   ],
   "source": [
    "# check the date in train vs test set\n",
    "print('The min year in the train set is {}.'.format(train_df['year'].min()))\n",
    "print('The max year in the train set is {}.'.format(train_df['year'].max()))\n",
    "print('The min year in the test set is {}.'.format(test_df['year'].min()))\n",
    "print('The max year in the test set is {}.'.format(test_df['year'].max()))"
   ]
  },
  {
   "cell_type": "code",
   "execution_count": 150,
   "metadata": {},
   "outputs": [
    {
     "name": "stdout",
     "output_type": "stream",
     "text": [
      "The min year in the train set is 2013-01-07 00:00:02.\n",
      "The max year in the train set is 2014-12-31 23:59:59.\n",
      "The min year in the test set is 2015-01-08 00:00:35.\n",
      "The max year in the test set is 2015-12-31 23:58:47.\n"
     ]
    }
   ],
   "source": [
    "# check the date in train vs test set\n",
    "print('The min year in the train set is {}.'.format(train_df['date_time'].min()))\n",
    "print('The max year in the train set is {}.'.format(train_df['date_time'].max()))\n",
    "print('The min year in the test set is {}.'.format(test_df['date_time'].min()))\n",
    "print('The max year in the test set is {}.'.format(test_df['date_time'].max()))"
   ]
  },
  {
   "cell_type": "code",
   "execution_count": 87,
   "metadata": {},
   "outputs": [
    {
     "name": "stdout",
     "output_type": "stream",
     "text": [
      "<class 'pandas.core.frame.DataFrame'>\n",
      "RangeIndex: 37670293 entries, 0 to 37670292\n",
      "Data columns (total 26 columns):\n",
      "date_time                    37670293 non-null datetime64[ns]\n",
      "site_name                    37670293 non-null int64\n",
      "posa_continent               37670293 non-null int64\n",
      "user_location_country        37670293 non-null int64\n",
      "user_location_region         37670293 non-null int64\n",
      "user_location_city           37670293 non-null int64\n",
      "orig_destination_distance    24145292 non-null float64\n",
      "user_id                      37670293 non-null int64\n",
      "is_mobile                    37670293 non-null int64\n",
      "is_package                   37670293 non-null int64\n",
      "channel                      37670293 non-null int64\n",
      "srch_ci                      37623210 non-null object\n",
      "srch_co                      37623209 non-null object\n",
      "srch_adults_cnt              37670293 non-null int64\n",
      "srch_children_cnt            37670293 non-null int64\n",
      "srch_rm_cnt                  37670293 non-null int64\n",
      "srch_destination_id          37670293 non-null int64\n",
      "srch_destination_type_id     37670293 non-null int64\n",
      "is_booking                   37670293 non-null int64\n",
      "cnt                          37670293 non-null int64\n",
      "hotel_continent              37670293 non-null int64\n",
      "hotel_country                37670293 non-null int64\n",
      "hotel_market                 37670293 non-null int64\n",
      "hotel_cluster                37670293 non-null int64\n",
      "year                         37670293 non-null int64\n",
      "month                        37670293 non-null int64\n",
      "dtypes: datetime64[ns](1), float64(1), int64(22), object(2)\n",
      "memory usage: 7.3+ GB\n"
     ]
    }
   ],
   "source": [
    "train_df.info(verbose=True, null_counts=True)"
   ]
  },
  {
   "cell_type": "code",
   "execution_count": 91,
   "metadata": {},
   "outputs": [],
   "source": [
    "null_counts = {}\n",
    "for c in train_df.columns:\n",
    "    null_counts[c] = train_df[c].isnull().sum()"
   ]
  },
  {
   "cell_type": "code",
   "execution_count": 92,
   "metadata": {},
   "outputs": [
    {
     "data": {
      "text/plain": [
       "{'date_time': 0,\n",
       " 'site_name': 0,\n",
       " 'posa_continent': 0,\n",
       " 'user_location_country': 0,\n",
       " 'user_location_region': 0,\n",
       " 'user_location_city': 0,\n",
       " 'orig_destination_distance': 13525001,\n",
       " 'user_id': 0,\n",
       " 'is_mobile': 0,\n",
       " 'is_package': 0,\n",
       " 'channel': 0,\n",
       " 'srch_ci': 47083,\n",
       " 'srch_co': 47084,\n",
       " 'srch_adults_cnt': 0,\n",
       " 'srch_children_cnt': 0,\n",
       " 'srch_rm_cnt': 0,\n",
       " 'srch_destination_id': 0,\n",
       " 'srch_destination_type_id': 0,\n",
       " 'is_booking': 0,\n",
       " 'cnt': 0,\n",
       " 'hotel_continent': 0,\n",
       " 'hotel_country': 0,\n",
       " 'hotel_market': 0,\n",
       " 'hotel_cluster': 0,\n",
       " 'year': 0,\n",
       " 'month': 0}"
      ]
     },
     "execution_count": 92,
     "metadata": {},
     "output_type": "execute_result"
    }
   ],
   "source": [
    "null_counts"
   ]
  },
  {
   "cell_type": "code",
   "execution_count": 180,
   "metadata": {},
   "outputs": [
    {
     "name": "stdout",
     "output_type": "stream",
     "text": [
      "<class 'pandas.core.frame.DataFrame'>\n",
      "RangeIndex: 2528243 entries, 0 to 2528242\n",
      "Data columns (total 24 columns):\n",
      "id                           int64\n",
      "date_time                    datetime64[ns]\n",
      "site_name                    int64\n",
      "posa_continent               int64\n",
      "user_location_country        int64\n",
      "user_location_region         int64\n",
      "user_location_city           int64\n",
      "orig_destination_distance    float64\n",
      "user_id                      int64\n",
      "is_mobile                    int64\n",
      "is_package                   int64\n",
      "channel                      int64\n",
      "srch_ci                      object\n",
      "srch_co                      object\n",
      "srch_adults_cnt              int64\n",
      "srch_children_cnt            int64\n",
      "srch_rm_cnt                  int64\n",
      "srch_destination_id          int64\n",
      "srch_destination_type_id     int64\n",
      "hotel_continent              int64\n",
      "hotel_country                int64\n",
      "hotel_market                 int64\n",
      "year                         int64\n",
      "month                        int64\n",
      "dtypes: datetime64[ns](1), float64(1), int64(20), object(2)\n",
      "memory usage: 462.9+ MB\n"
     ]
    }
   ],
   "source": [
    "test_df.info(verbose=True)"
   ]
  },
  {
   "cell_type": "code",
   "execution_count": 93,
   "metadata": {},
   "outputs": [],
   "source": [
    "null_counts = {}\n",
    "for c in test_df.columns:\n",
    "    null_counts[c] = test_df[c].isnull().sum()"
   ]
  },
  {
   "cell_type": "code",
   "execution_count": 94,
   "metadata": {},
   "outputs": [
    {
     "data": {
      "text/plain": [
       "{'id': 0,\n",
       " 'date_time': 0,\n",
       " 'site_name': 0,\n",
       " 'posa_continent': 0,\n",
       " 'user_location_country': 0,\n",
       " 'user_location_region': 0,\n",
       " 'user_location_city': 0,\n",
       " 'orig_destination_distance': 847461,\n",
       " 'user_id': 0,\n",
       " 'is_mobile': 0,\n",
       " 'is_package': 0,\n",
       " 'channel': 0,\n",
       " 'srch_ci': 21,\n",
       " 'srch_co': 17,\n",
       " 'srch_adults_cnt': 0,\n",
       " 'srch_children_cnt': 0,\n",
       " 'srch_rm_cnt': 0,\n",
       " 'srch_destination_id': 0,\n",
       " 'srch_destination_type_id': 0,\n",
       " 'hotel_continent': 0,\n",
       " 'hotel_country': 0,\n",
       " 'hotel_market': 0}"
      ]
     },
     "execution_count": 94,
     "metadata": {},
     "output_type": "execute_result"
    }
   ],
   "source": [
    "null_counts"
   ]
  },
  {
   "cell_type": "markdown",
   "metadata": {},
   "source": [
    "# EDA"
   ]
  },
  {
   "cell_type": "code",
   "execution_count": 86,
   "metadata": {},
   "outputs": [
    {
     "name": "stdout",
     "output_type": "stream",
     "text": [
      "0    34669600\n",
      "1     3000693\n",
      "Name: is_booking, dtype: int64\n"
     ]
    },
    {
     "data": {
      "text/plain": [
       "<matplotlib.axes._subplots.AxesSubplot at 0x1a1e2ec358>"
      ]
     },
     "execution_count": 86,
     "metadata": {},
     "output_type": "execute_result"
    },
    {
     "data": {
      "image/png": "[encoded data removed]",
      "text/plain": [
       "<Figure size 432x288 with 1 Axes>"
      ]
     },
     "metadata": {},
     "output_type": "display_data"
    }
   ],
   "source": [
    "print(train_df['is_booking'].value_counts())\n",
    "train_df['is_booking'].value_counts().plot.barh()"
   ]
  },
  {
   "cell_type": "code",
   "execution_count": 11,
   "metadata": {},
   "outputs": [
    {
     "data": {
      "text/plain": [
       "<matplotlib.axes._subplots.AxesSubplot at 0x1bd6831400>"
      ]
     },
     "execution_count": 11,
     "metadata": {},
     "output_type": "execute_result"
    },
    {
     "data": {
      "image/png": "[encoded data removed]",
      "text/plain": [
       "<Figure size 432x288 with 1 Axes>"
      ]
     },
     "metadata": {
      "needs_background": "light"
     },
     "output_type": "display_data"
    }
   ],
   "source": [
    "train_df['year'].value_counts().plot.bar()"
   ]
  },
  {
   "cell_type": "code",
   "execution_count": 30,
   "metadata": {},
   "outputs": [
    {
     "data": {
      "text/plain": [
       "Text(0, 0.5, 'Clicks, Bookings Count')"
      ]
     },
     "execution_count": 30,
     "metadata": {},
     "output_type": "execute_result"
    },
    {
     "data": {
      "image/png": "[encoded data removed]",
      "text/plain": [
       "<Figure size 432x288 with 1 Axes>"
      ]
     },
     "metadata": {
      "needs_background": "light"
     },
     "output_type": "display_data"
    }
   ],
   "source": [
    "ax = train_df.groupby(['year','month'])['user_id'].count().plot.line(marker='o', ls='--', color='orange')\n",
    "train_df.groupby(['year','month'])['user_id'].count().plot.bar(ax=ax, color='blue')\n",
    "ax.set_title('Train Set Click, Bookings by Month')\n",
    "ax.set_xlabel('Year, Month')\n",
    "ax.set_ylabel('Clicks, Bookings Count')"
   ]
  },
  {
   "cell_type": "code",
   "execution_count": 97,
   "metadata": {},
   "outputs": [
    {
     "data": {
      "text/plain": [
       "Text(0, 0.5, 'Bookings Count')"
      ]
     },
     "execution_count": 97,
     "metadata": {},
     "output_type": "execute_result"
    },
    {
     "data": {
      "image/png": "[encoded data removed]",
      "text/plain": [
       "<Figure size 432x288 with 1 Axes>"
      ]
     },
     "metadata": {},
     "output_type": "display_data"
    }
   ],
   "source": [
    "only_bookings = train_df[train_df['is_booking']==1]\n",
    "ax = only_bookings.groupby(['year','month'])['user_id'].count().plot.line(marker='o', ls='--', color='orange')\n",
    "only_bookings.groupby(['year','month'])['user_id'].count().plot.bar(ax=ax, color='blue')\n",
    "ax.set_title('Train Set ONLY Bookings by Month')\n",
    "ax.set_xlabel('Year, Month')\n",
    "ax.set_ylabel('Bookings Count')"
   ]
  },
  {
   "cell_type": "code",
   "execution_count": 81,
   "metadata": {},
   "outputs": [
    {
     "data": {
      "text/plain": [
       "<matplotlib.legend.Legend at 0x1a1de62ef0>"
      ]
     },
     "execution_count": 81,
     "metadata": {},
     "output_type": "execute_result"
    },
    {
     "data": {
      "image/png": "[encoded data removed]",
      "text/plain": [
       "<Figure size 432x288 with 1 Axes>"
      ]
     },
     "metadata": {
      "needs_background": "light"
     },
     "output_type": "display_data"
    }
   ],
   "source": [
    "only_bookings = train_df[train_df['is_booking']==1]\n",
    "ax=only_bookings.groupby(['year','month'])['user_id'].count().plot.line(marker='o', ls='--', color='red', label='only bookings')\n",
    "\n",
    "\n",
    "only_clicks = train_df[train_df['is_booking']==0]\n",
    "ax = only_clicks.groupby(['year','month'])['user_id'].count().plot.line(marker='o', ls='--', color='orange', label='only clicks', ax=ax)\n",
    "# train_df.groupby(['year','month'])['user_id'].count().plot.bar(ax=ax, color='blue')\n",
    "ax.set_title('Train Set Clicks vs. Bookings by Month')\n",
    "ax.set_xlabel('Year, Month')\n",
    "ax.set_ylabel('Clicks, Bookings Count')\n",
    "\n",
    "\n",
    "plt.legend()"
   ]
  },
  {
   "cell_type": "code",
   "execution_count": 132,
   "metadata": {},
   "outputs": [
    {
     "data": {
      "text/plain": [
       "<matplotlib.legend.Legend at 0x1bb67766a0>"
      ]
     },
     "execution_count": 132,
     "metadata": {},
     "output_type": "execute_result"
    },
    {
     "data": {
      "image/png": "[encoded data removed]",
      "text/plain": [
       "<Figure size 576x288 with 1 Axes>"
      ]
     },
     "metadata": {},
     "output_type": "display_data"
    }
   ],
   "source": [
    "import matplotlib.ticker as plticker\n",
    "fig, ax = plt.subplots(1, figsize=(8,4))\n",
    "all_bookings_df = pd.concat([only_bookings[['year','month','user_id']], test_df[['year','month','user_id']]], axis=0)\n",
    "ax=all_bookings_df.groupby(['year','month'])['user_id'].count().plot.line(marker='o', ls='--', color='red', label='only bookings',ax=ax)\n",
    "# all_bookings_df.groupby(['year','month'])['user_id'].count().plot.bar(ax=ax, color='green')\n",
    "\n",
    "# only_clicks = train_df[train_df['is_booking']==0]\n",
    "# ax = only_clicks.groupby(['year','month'])['user_id'].count().plot.line(marker='o', ls='--', color='orange', label='only clicks', ax=ax)\n",
    "# train_df.groupby(['year','month'])['user_id'].count().plot.bar(ax=ax, color='blue')\n",
    "ax.set_title('Bookings Traffic')\n",
    "ax.set_xlabel('Year, Month')\n",
    "ax.set_ylabel('Clicks, Bookings Count')\n",
    "ax.set_xticklabels([(2012,11),(2012,12),(2013,1),(2013,2),(2013,3),(2013,4),(2013,5),(2013,6),(2013,7),(2013,8),(2013,9),(2013,10),(2013,11),(2013,12),\\\n",
    "              (2014,1),(2014,2),(2014,3),(2014,4),(2014,5),(2014,6),(2014,7),(2014,8),(2014,9),(2014,10),(2014,11),(2014,12),\\\n",
    "              (2015,1),(2015,2),(2015,3),(2015,4),(2015,5),(2015,6),(2015,7),(2015,8),(2015,9),(2015,10),(2015,11),(2015,12)], rotation = 90)\n",
    "\n",
    "loc = plticker.MultipleLocator(base=1.0) # this locator puts ticks at regular intervals\n",
    "ax.xaxis.set_major_locator(loc)\n",
    "plt.legend(loc=2)"
   ]
  },
  {
   "cell_type": "code",
   "execution_count": 29,
   "metadata": {},
   "outputs": [
    {
     "data": {
      "text/plain": [
       "Text(0, 0.5, 'Bookings Count')"
      ]
     },
     "execution_count": 29,
     "metadata": {},
     "output_type": "execute_result"
    },
    {
     "data": {
      "image/png": "[encoded data removed]",
      "text/plain": [
       "<Figure size 432x288 with 1 Axes>"
      ]
     },
     "metadata": {
      "needs_background": "light"
     },
     "output_type": "display_data"
    }
   ],
   "source": [
    "ax = test_df.groupby(['year','month'])['user_id'].count().plot.line(marker='o', ls='--', color='blue')\n",
    "test_df.groupby(['year','month'])['user_id'].count().plot.bar(ax=ax, color='orange')\n",
    "ax.set_title('Test Set Bookings by Month')\n",
    "ax.set_xlabel('Year, Month')\n",
    "ax.set_ylabel('Bookings Count')"
   ]
  },
  {
   "cell_type": "code",
   "execution_count": 96,
   "metadata": {},
   "outputs": [
    {
     "data": {
      "text/plain": [
       "Text(0.5, 1.05, 'Top 20 User Location Countries by Train and Test Set')"
      ]
     },
     "execution_count": 96,
     "metadata": {},
     "output_type": "execute_result"
    },
    {
     "data": {
      "image/png": "[encoded data removed]",
      "text/plain": [
       "<Figure size 576x216 with 2 Axes>"
      ]
     },
     "metadata": {},
     "output_type": "display_data"
    }
   ],
   "source": [
    "fig, ax = plt.subplots(ncols=2, figsize=(8,3), sharey=True)\n",
    "only_bookings['user_location_country'].value_counts().iloc[:20].plot.bar(color='blue', ax=ax[0])\n",
    "test_df['user_location_country'].value_counts().iloc[:20].plot.bar(color='orange', ax=ax[1])\n",
    "ax[0].set_title('Train ONLY BOOKING')\n",
    "ax[1].set_title('Test')\n",
    "ax[1].set_xlabel('User Location Country')\n",
    "ax[0].set_xlabel('User Location Country')\n",
    "ax[0].set_ylabel('Count')\n",
    "fig.suptitle('Top 20 User Location Countries by Train and Test Set', y=1.05)"
   ]
  },
  {
   "cell_type": "code",
   "execution_count": 70,
   "metadata": {},
   "outputs": [
    {
     "data": {
      "text/plain": [
       "Text(0, 0.5, 'Count')"
      ]
     },
     "execution_count": 70,
     "metadata": {},
     "output_type": "execute_result"
    },
    {
     "data": {
      "image/png": "[encoded data removed]",
      "text/plain": [
       "<Figure size 432x288 with 1 Axes>"
      ]
     },
     "metadata": {
      "needs_background": "light"
     },
     "output_type": "display_data"
    }
   ],
   "source": [
    "# fig, ax = plt.subplots(ncols=2, figsize=(8,2), sharey=True)\n",
    "ax = only_bookings['hotel_cluster'].value_counts().iloc[:20].plot.bar(color='blue')\n",
    "ax.set_title('Hotel Cluster Count Top 20')\n",
    "ax.set_xlabel('Hotel Cluster (Top 20)')\n",
    "ax.set_ylabel('Count')"
   ]
  },
  {
   "cell_type": "markdown",
   "metadata": {},
   "source": [
    "#### Sample Data"
   ]
  },
  {
   "cell_type": "code",
   "execution_count": 164,
   "metadata": {},
   "outputs": [],
   "source": [
    "unique_users = set(train_df['user_id'].unique())\n",
    "\n",
    "sel_user_ids = random.sample(unique_users,10000)\n",
    "sample_train_df = train_df[train_df.user_id.isin(sel_user_ids)]"
   ]
  },
  {
   "cell_type": "code",
   "execution_count": 10,
   "metadata": {},
   "outputs": [],
   "source": [
    "sample_train_df.to_csv('../data/sampled_data.csv')"
   ]
  },
  {
   "cell_type": "code",
   "execution_count": 165,
   "metadata": {},
   "outputs": [
    {
     "name": "stderr",
     "output_type": "stream",
     "text": [
      "/anaconda3/lib/python3.6/site-packages/ipykernel_launcher.py:4: SettingWithCopyWarning: \n",
      "A value is trying to be set on a copy of a slice from a DataFrame.\n",
      "Try using .loc[row_indexer,col_indexer] = value instead\n",
      "\n",
      "See the caveats in the documentation: http://pandas.pydata.org/pandas-docs/stable/indexing.html#indexing-view-versus-copy\n",
      "  after removing the cwd from sys.path.\n",
      "/anaconda3/lib/python3.6/site-packages/ipykernel_launcher.py:5: SettingWithCopyWarning: \n",
      "A value is trying to be set on a copy of a slice from a DataFrame.\n",
      "Try using .loc[row_indexer,col_indexer] = value instead\n",
      "\n",
      "See the caveats in the documentation: http://pandas.pydata.org/pandas-docs/stable/indexing.html#indexing-view-versus-copy\n",
      "  \"\"\"\n",
      "/anaconda3/lib/python3.6/site-packages/ipykernel_launcher.py:6: SettingWithCopyWarning: \n",
      "A value is trying to be set on a copy of a slice from a DataFrame.\n",
      "Try using .loc[row_indexer,col_indexer] = value instead\n",
      "\n",
      "See the caveats in the documentation: http://pandas.pydata.org/pandas-docs/stable/indexing.html#indexing-view-versus-copy\n",
      "  \n"
     ]
    }
   ],
   "source": [
    "# sample_train_df = pd.read_csv('../data/sampled_data.csv')\n",
    "# sample_train_df.drop('Unnamed: 0', inplace=True, axis=1)\n",
    "\n",
    "sample_train_df[\"date_time\"] = pd.to_datetime(sample_train_df[\"date_time\"])\n",
    "sample_train_df[\"year\"] = sample_train_df[\"date_time\"].dt.year\n",
    "sample_train_df[\"month\"] = sample_train_df[\"date_time\"].dt.month"
   ]
  },
  {
   "cell_type": "code",
   "execution_count": 166,
   "metadata": {},
   "outputs": [],
   "source": [
    "t1 = sample_train_df[((sample_train_df.year == 2013) | ((sample_train_df.year == 2014) & (sample_train_df.month < 7)))]\n",
    "# t2 is new test set for validation of model\n",
    "t2 = sample_train_df[((sample_train_df.year == 2014) & (sample_train_df.month >= 7))]\n",
    "# t2 is new test set for validation of model\n",
    "t3 = sample_train_df[((sample_train_df.year == 2014) & (sample_train_df.month >= 8))]"
   ]
  },
  {
   "cell_type": "code",
   "execution_count": 167,
   "metadata": {},
   "outputs": [
    {
     "name": "stdout",
     "output_type": "stream",
     "text": [
      "Number of events Validation Set (ALL):  137788\n",
      "Number of booking events Validation Set:  9883\n",
      "Number of events Test set (ALL):  114554\n",
      "Number of booking events Test set:  8270\n"
     ]
    }
   ],
   "source": [
    "# only keep booking events in new test set because needs to be consistent with the test set provided\n",
    "print('Number of events Validation Set (ALL): ', t2.shape[0])\n",
    "t2 = t2[t2['is_booking']==True]\n",
    "print('Number of booking events Validation Set: ', t2.shape[0])\n",
    "\n",
    "print('Number of events Test set (ALL): ', t3.shape[0])\n",
    "t3 = t3[t3['is_booking']==True]\n",
    "print('Number of booking events Test set: ', t3.shape[0])"
   ]
  },
  {
   "cell_type": "markdown",
   "metadata": {},
   "source": [
    "### 5 Most Common"
   ]
  },
  {
   "cell_type": "code",
   "execution_count": 14,
   "metadata": {},
   "outputs": [
    {
     "name": "stdout",
     "output_type": "stream",
     "text": [
      "Number unique hotel clusters:  100\n",
      "5 most common hotel clusters:  [91, 41, 48, 64, 65]\n"
     ]
    }
   ],
   "source": [
    "most_common_clusters = list(train_df['hotel_cluster'].value_counts().index)[:5]\n",
    "print('Number unique hotel clusters: ', train_df['hotel_cluster'].nunique())\n",
    "print('5 most common hotel clusters: ',most_common_clusters)"
   ]
  },
  {
   "cell_type": "code",
   "execution_count": 15,
   "metadata": {},
   "outputs": [
    {
     "name": "stdout",
     "output_type": "stream",
     "text": [
      "8228\n"
     ]
    }
   ],
   "source": [
    "baseline_predictions = [most_common_clusters for i in range(t3.shape[0])]\n",
    "print(len(baseline_predictions))"
   ]
  },
  {
   "cell_type": "code",
   "execution_count": 16,
   "metadata": {},
   "outputs": [],
   "source": [
    "# functions for evaluation metrics (mean absolute precision)\n",
    "import numpy as np\n",
    "\n",
    "def apk(actual, predicted, k=5):\n",
    "    \"\"\"\n",
    "    Computes the average precision at k.\n",
    "    This function computes the average prescision at k between two lists of\n",
    "    items.\n",
    "    Parameters\n",
    "    ----------\n",
    "    actual : list\n",
    "             A list of elements that are to be predicted (order doesn't matter)\n",
    "    predicted : list\n",
    "                A list of predicted elements (order does matter)\n",
    "    k : int, optional\n",
    "        The maximum number of predicted elements\n",
    "    Returns\n",
    "    -------\n",
    "    score : double\n",
    "            The average precision at k over the input lists\n",
    "    \"\"\"\n",
    "    if len(predicted)>k:\n",
    "        predicted = predicted[:k]\n",
    "\n",
    "    score = 0.0\n",
    "    num_hits = 0.0\n",
    "\n",
    "    for i,p in enumerate(predicted):\n",
    "        if p in actual and p not in predicted[:i]:\n",
    "            num_hits += 1.0\n",
    "            score += num_hits / (i+1.0)\n",
    "\n",
    "    if not actual:\n",
    "        return 0.0\n",
    "\n",
    "    return score / min(len(actual), k)\n",
    "  \n",
    "\n",
    "def mapk(actual, predicted, k=5):\n",
    "    \"\"\"\n",
    "    Computes the mean average precision at k.\n",
    "    This function computes the mean average prescision at k between two lists\n",
    "    of lists of items.\n",
    "    Parameters\n",
    "    ----------\n",
    "    actual : list\n",
    "             A list of lists of elements that are to be predicted \n",
    "             (order doesn't matter in the lists)\n",
    "    predicted : list\n",
    "                A list of lists of predicted elements\n",
    "                (order matters in the lists)\n",
    "    k : int, optional\n",
    "        The maximum number of predicted elements\n",
    "    Returns\n",
    "    -------\n",
    "    score : double\n",
    "            The mean average precision at k over the input lists\n",
    "    \"\"\"\n",
    "    return np.mean([apk(a,p,k) for a,p in zip(actual, predicted)])"
   ]
  },
  {
   "cell_type": "code",
   "execution_count": 17,
   "metadata": {},
   "outputs": [
    {
     "name": "stdout",
     "output_type": "stream",
     "text": [
      "[[36], [26], [65], [89], [18]]\n"
     ]
    }
   ],
   "source": [
    "target = [[l] for l in t3['hotel_cluster']]\n",
    "print(target[:5])"
   ]
  },
  {
   "cell_type": "code",
   "execution_count": 18,
   "metadata": {},
   "outputs": [
    {
     "name": "stdout",
     "output_type": "stream",
     "text": [
      "Baseline Mean Absolute Precision:  0.06398476746070329\n"
     ]
    }
   ],
   "source": [
    "baseline_score = mapk(target, baseline_predictions, k=5)\n",
    "print('Baseline Mean Absolute Precision: ', baseline_score)"
   ]
  },
  {
   "cell_type": "markdown",
   "metadata": {},
   "source": [
    "### Feature Generation"
   ]
  },
  {
   "cell_type": "code",
   "execution_count": 19,
   "metadata": {},
   "outputs": [
    {
     "data": {
      "text/plain": [
       "site_name                   -0.022408\n",
       "posa_continent               0.014938\n",
       "user_location_country       -0.010477\n",
       "user_location_region         0.007453\n",
       "user_location_city           0.000831\n",
       "orig_destination_distance    0.007260\n",
       "user_id                      0.001052\n",
       "is_mobile                    0.008412\n",
       "is_package                   0.038733\n",
       "channel                      0.000707\n",
       "srch_adults_cnt              0.012309\n",
       "srch_children_cnt            0.016261\n",
       "srch_rm_cnt                 -0.005954\n",
       "srch_destination_id         -0.011712\n",
       "srch_destination_type_id    -0.032850\n",
       "is_booking                  -0.021548\n",
       "cnt                          0.002944\n",
       "hotel_continent             -0.013963\n",
       "hotel_country               -0.024289\n",
       "hotel_market                 0.034205\n",
       "hotel_cluster                1.000000\n",
       "year                        -0.001050\n",
       "month                       -0.000560\n",
       "Name: hotel_cluster, dtype: float64"
      ]
     },
     "execution_count": 19,
     "metadata": {},
     "output_type": "execute_result"
    }
   ],
   "source": [
    "# check if any correlation between features and target -- no strong correlation present\n",
    "train_df.corr()['hotel_cluster']"
   ]
  },
  {
   "cell_type": "code",
   "execution_count": 83,
   "metadata": {},
   "outputs": [
    {
     "data": {
      "text/plain": [
       "Text(0.5, 1.0, 'Feature Correlation Matrix')"
      ]
     },
     "execution_count": 83,
     "metadata": {},
     "output_type": "execute_result"
    },
    {
     "data": {
      "image/png": "[encoded data removed]",
      "text/plain": [
       "<Figure size 792x648 with 2 Axes>"
      ]
     },
     "metadata": {},
     "output_type": "display_data"
    }
   ],
   "source": [
    "import numpy as np\n",
    "import pandas as pd\n",
    "import seaborn as sns\n",
    "import matplotlib.pyplot as plt\n",
    "\n",
    "sns.set(style=\"white\")\n",
    "\n",
    "# Compute the correlation matrix\n",
    "corr = train_df.corr()\n",
    "\n",
    "# Generate a mask for the upper triangle\n",
    "mask = np.zeros_like(corr, dtype=np.bool)\n",
    "mask[np.triu_indices_from(mask)] = True\n",
    "\n",
    "# Set up the matplotlib figure\n",
    "f, ax = plt.subplots(figsize=(11, 9))\n",
    "\n",
    "# Generate a custom diverging colormap\n",
    "cmap = sns.diverging_palette(220, 10, as_cmap=True)\n",
    "\n",
    "# Draw the heatmap with the mask and correct aspect ratio\n",
    "sns.heatmap(corr, mask=mask, cmap=cmap, vmax=.3, center=0,\n",
    "            square=True, linewidths=.5, cbar_kws={\"shrink\": .5})\n",
    "plt.title('Feature Correlation Matrix')"
   ]
  },
  {
   "cell_type": "code",
   "execution_count": 151,
   "metadata": {},
   "outputs": [
    {
     "name": "stdout",
     "output_type": "stream",
     "text": [
      "Component:\t\t15\n",
      "Explained Variance:\t[0.46106252 0.10834396 0.04631931 0.02508247 0.02338351 0.02127209\n",
      " 0.01691681 0.01515142 0.01439357 0.01238374 0.01155381 0.0111357\n",
      " 0.01036474 0.00953233 0.00929752]\n",
      "\n"
     ]
    }
   ],
   "source": [
    "# PCA dimensionality redunction on destination features\n",
    "from sklearn.decomposition import PCA\n",
    "\n",
    "variance = []\n",
    "components = [15]\n",
    "for x in components:\n",
    "    pca = PCA(n_components=x)\n",
    "    destinations_pca = pca.fit_transform(destination_df[['d{0}'.format(i+1) for i in range(149)]])\n",
    "    for ev in pca.explained_variance_ratio_:\n",
    "        variance.append(ev)\n",
    "    print('Component:\\t\\t{}\\nExplained Variance:\\t{}\\n'.format(x, pca.explained_variance_ratio_))"
   ]
  },
  {
   "cell_type": "code",
   "execution_count": 152,
   "metadata": {},
   "outputs": [
    {
     "name": "stdout",
     "output_type": "stream",
     "text": [
      "[0.46106251738967857, 0.10834395687129283, 0.04631930633336666, 0.02508246723678836, 0.023383510386902923, 0.02127208771192348, 0.016916811716047878, 0.015151417917792474, 0.014393570049438099, 0.012383739902260354, 0.011553806008863169, 0.011135698477307414, 0.010364740613413581, 0.009532331159243672, 0.009297521129522977]\n"
     ]
    },
    {
     "data": {
      "image/png": "[encoded data removed]",
      "text/plain": [
       "<Figure size 432x288 with 1 Axes>"
      ]
     },
     "metadata": {},
     "output_type": "display_data"
    }
   ],
   "source": [
    "c = [i+1 for i in range(15)]\n",
    "plt.plot(c, variance, 'o--')\n",
    "plt.xlabel('Number of components')\n",
    "plt.ylabel('Explained Variance Ratio')\n",
    "plt.title('Expalined Variance Ratio PCA on Destination Dataset')\n",
    "print(variance)"
   ]
  },
  {
   "cell_type": "code",
   "execution_count": 153,
   "metadata": {},
   "outputs": [
    {
     "data": {
      "text/html": [
       "<div>\n",
       "<style scoped>\n",
       "    .dataframe tbody tr th:only-of-type {\n",
       "        vertical-align: middle;\n",
       "    }\n",
       "\n",
       "    .dataframe tbody tr th {\n",
       "        vertical-align: top;\n",
       "    }\n",
       "\n",
       "    .dataframe thead th {\n",
       "        text-align: right;\n",
       "    }\n",
       "</style>\n",
       "<table border=\"1\" class=\"dataframe\">\n",
       "  <thead>\n",
       "    <tr style=\"text-align: right;\">\n",
       "      <th></th>\n",
       "      <th>0</th>\n",
       "      <th>1</th>\n",
       "      <th>2</th>\n",
       "      <th>3</th>\n",
       "      <th>srch_destination_id</th>\n",
       "    </tr>\n",
       "  </thead>\n",
       "  <tbody>\n",
       "    <tr>\n",
       "      <th>0</th>\n",
       "      <td>-0.044268</td>\n",
       "      <td>0.169419</td>\n",
       "      <td>0.032523</td>\n",
       "      <td>-0.014299</td>\n",
       "      <td>0</td>\n",
       "    </tr>\n",
       "    <tr>\n",
       "      <th>1</th>\n",
       "      <td>-0.440761</td>\n",
       "      <td>0.077405</td>\n",
       "      <td>-0.091573</td>\n",
       "      <td>-0.020220</td>\n",
       "      <td>1</td>\n",
       "    </tr>\n",
       "    <tr>\n",
       "      <th>2</th>\n",
       "      <td>0.001033</td>\n",
       "      <td>0.020677</td>\n",
       "      <td>0.012108</td>\n",
       "      <td>0.134177</td>\n",
       "      <td>2</td>\n",
       "    </tr>\n",
       "    <tr>\n",
       "      <th>3</th>\n",
       "      <td>-0.480467</td>\n",
       "      <td>-0.040345</td>\n",
       "      <td>-0.019319</td>\n",
       "      <td>-0.040115</td>\n",
       "      <td>3</td>\n",
       "    </tr>\n",
       "    <tr>\n",
       "      <th>4</th>\n",
       "      <td>-0.207253</td>\n",
       "      <td>-0.042694</td>\n",
       "      <td>-0.011744</td>\n",
       "      <td>-0.017532</td>\n",
       "      <td>4</td>\n",
       "    </tr>\n",
       "  </tbody>\n",
       "</table>\n",
       "</div>"
      ],
      "text/plain": [
       "          0         1         2         3  srch_destination_id\n",
       "0 -0.044268  0.169419  0.032523 -0.014299                    0\n",
       "1 -0.440761  0.077405 -0.091573 -0.020220                    1\n",
       "2  0.001033  0.020677  0.012108  0.134177                    2\n",
       "3 -0.480467 -0.040345 -0.019319 -0.040115                    3\n",
       "4 -0.207253 -0.042694 -0.011744 -0.017532                    4"
      ]
     },
     "execution_count": 153,
     "metadata": {},
     "output_type": "execute_result"
    }
   ],
   "source": [
    "# optimial to use 4 components (accounts for 65% of variance in 149 original columns)\n",
    "pca = PCA(n_components=4)\n",
    "destinations_pca = pca.fit_transform(destination_df[['d{0}'.format(i+1) for i in range(149)]])\n",
    "destinations_pca_df = pd.DataFrame(destinations_pca)\n",
    "destinations_pca_df['srch_destination_id'] = destination_df['srch_destination_id']\n",
    "destinations_pca_df.head()"
   ]
  },
  {
   "cell_type": "code",
   "execution_count": 154,
   "metadata": {},
   "outputs": [],
   "source": [
    "def feature_generation(df):\n",
    "    df[\"date_time\"] = pd.to_datetime(df[\"date_time\"])\n",
    "    df[\"srch_ci\"] = pd.to_datetime(df[\"srch_ci\"], format='%Y-%m-%d', errors=\"coerce\")\n",
    "    df[\"srch_co\"] = pd.to_datetime(df[\"srch_co\"], format='%Y-%m-%d', errors=\"coerce\")\n",
    "\n",
    "    props = {}\n",
    "    for prop in [\"month\", \"day\", \"hour\", \"minute\", \"dayofweek\", \"quarter\"]:\n",
    "        props[prop] = getattr(df[\"date_time\"].dt, prop)\n",
    "\n",
    "    carryover = [p for p in df.columns if p not in [\"date_time\", \"srch_ci\", \"srch_co\"]]\n",
    "    for prop in carryover:\n",
    "        props[prop] = df[prop]\n",
    "\n",
    "    date_props = [\"month\", \"day\", \"dayofweek\", \"quarter\"]\n",
    "    for prop in date_props:\n",
    "        props[\"ci_{0}\".format(prop)] = getattr(df[\"srch_ci\"].dt, prop)\n",
    "        props[\"co_{0}\".format(prop)] = getattr(df[\"srch_co\"].dt, prop)\n",
    "    props[\"stay_span\"] = (df[\"srch_co\"] - df[\"srch_ci\"]).astype('timedelta64[h]')\n",
    "\n",
    "    ret = pd.DataFrame(props)\n",
    "\n",
    "    ret = ret.join(destinations_pca_df, on=\"srch_destination_id\", how='left', rsuffix=\"dest\")\n",
    "    ret = ret.drop(\"srch_destination_iddest\", axis=1)\n",
    "    return ret"
   ]
  },
  {
   "cell_type": "code",
   "execution_count": 168,
   "metadata": {},
   "outputs": [
    {
     "name": "stderr",
     "output_type": "stream",
     "text": [
      "/anaconda3/lib/python3.6/site-packages/ipykernel_launcher.py:2: SettingWithCopyWarning: \n",
      "A value is trying to be set on a copy of a slice from a DataFrame.\n",
      "Try using .loc[row_indexer,col_indexer] = value instead\n",
      "\n",
      "See the caveats in the documentation: http://pandas.pydata.org/pandas-docs/stable/indexing.html#indexing-view-versus-copy\n",
      "  \n",
      "/anaconda3/lib/python3.6/site-packages/ipykernel_launcher.py:3: SettingWithCopyWarning: \n",
      "A value is trying to be set on a copy of a slice from a DataFrame.\n",
      "Try using .loc[row_indexer,col_indexer] = value instead\n",
      "\n",
      "See the caveats in the documentation: http://pandas.pydata.org/pandas-docs/stable/indexing.html#indexing-view-versus-copy\n",
      "  This is separate from the ipykernel package so we can avoid doing imports until\n",
      "/anaconda3/lib/python3.6/site-packages/ipykernel_launcher.py:4: SettingWithCopyWarning: \n",
      "A value is trying to be set on a copy of a slice from a DataFrame.\n",
      "Try using .loc[row_indexer,col_indexer] = value instead\n",
      "\n",
      "See the caveats in the documentation: http://pandas.pydata.org/pandas-docs/stable/indexing.html#indexing-view-versus-copy\n",
      "  after removing the cwd from sys.path.\n"
     ]
    }
   ],
   "source": [
    "train = feature_generation(t1)\n",
    "val = feature_generation(t2)\n",
    "test = feature_generation(t3)"
   ]
  },
  {
   "cell_type": "code",
   "execution_count": 59,
   "metadata": {},
   "outputs": [
    {
     "name": "stdout",
     "output_type": "stream",
     "text": [
      "is_booking\n",
      "cnt\n",
      "year\n"
     ]
    }
   ],
   "source": [
    "for t in train.columns.tolist():\n",
    "    if t not in test_df.columns.tolist():\n",
    "        print(t)"
   ]
  },
  {
   "cell_type": "code",
   "execution_count": 25,
   "metadata": {},
   "outputs": [],
   "source": [
    "y_train = train.pop('hotel_cluster')\n",
    "X_train = train\n",
    "features = train.columns\n",
    "\n",
    "y_val = val.pop('hotel_cluster')\n",
    "X_val = val\n",
    "\n",
    "y_test = test.pop('hotel_cluster')\n",
    "X_test = test"
   ]
  },
  {
   "cell_type": "code",
   "execution_count": 26,
   "metadata": {
    "scrolled": true
   },
   "outputs": [
    {
     "name": "stdout",
     "output_type": "stream",
     "text": [
      "[0]\tvalidation_0-mlogloss:4.43915\tvalidation_1-mlogloss:4.48781\n",
      "Multiple eval metrics have been passed: 'validation_1-mlogloss' will be used for early stopping.\n",
      "\n",
      "Will train until validation_1-mlogloss hasn't improved in 100 rounds.\n",
      "[1]\tvalidation_0-mlogloss:4.35153\tvalidation_1-mlogloss:4.4157\n",
      "[2]\tvalidation_0-mlogloss:4.28225\tvalidation_1-mlogloss:4.3563\n",
      "[3]\tvalidation_0-mlogloss:4.22423\tvalidation_1-mlogloss:4.30496\n",
      "[4]\tvalidation_0-mlogloss:4.17521\tvalidation_1-mlogloss:4.26217\n",
      "[5]\tvalidation_0-mlogloss:4.13143\tvalidation_1-mlogloss:4.22232\n",
      "[6]\tvalidation_0-mlogloss:4.09257\tvalidation_1-mlogloss:4.18669\n",
      "[7]\tvalidation_0-mlogloss:4.05727\tvalidation_1-mlogloss:4.15466\n",
      "[8]\tvalidation_0-mlogloss:4.026\tvalidation_1-mlogloss:4.12632\n",
      "[9]\tvalidation_0-mlogloss:3.9964\tvalidation_1-mlogloss:4.10002\n",
      "[10]\tvalidation_0-mlogloss:3.96912\tvalidation_1-mlogloss:4.07529\n",
      "[11]\tvalidation_0-mlogloss:3.94361\tvalidation_1-mlogloss:4.05152\n",
      "[12]\tvalidation_0-mlogloss:3.92037\tvalidation_1-mlogloss:4.03017\n",
      "[13]\tvalidation_0-mlogloss:3.89886\tvalidation_1-mlogloss:4.01098\n",
      "[14]\tvalidation_0-mlogloss:3.87842\tvalidation_1-mlogloss:3.99263\n",
      "[15]\tvalidation_0-mlogloss:3.85973\tvalidation_1-mlogloss:3.97632\n",
      "[16]\tvalidation_0-mlogloss:3.84202\tvalidation_1-mlogloss:3.96094\n",
      "[17]\tvalidation_0-mlogloss:3.8252\tvalidation_1-mlogloss:3.94578\n",
      "[18]\tvalidation_0-mlogloss:3.809\tvalidation_1-mlogloss:3.93133\n",
      "[19]\tvalidation_0-mlogloss:3.79432\tvalidation_1-mlogloss:3.91774\n",
      "[20]\tvalidation_0-mlogloss:3.78006\tvalidation_1-mlogloss:3.90555\n",
      "[21]\tvalidation_0-mlogloss:3.76613\tvalidation_1-mlogloss:3.89351\n",
      "[22]\tvalidation_0-mlogloss:3.75354\tvalidation_1-mlogloss:3.88268\n",
      "[23]\tvalidation_0-mlogloss:3.74097\tvalidation_1-mlogloss:3.87192\n",
      "[24]\tvalidation_0-mlogloss:3.72886\tvalidation_1-mlogloss:3.86198\n",
      "[25]\tvalidation_0-mlogloss:3.71788\tvalidation_1-mlogloss:3.85284\n",
      "[26]\tvalidation_0-mlogloss:3.70667\tvalidation_1-mlogloss:3.84352\n",
      "[27]\tvalidation_0-mlogloss:3.69638\tvalidation_1-mlogloss:3.83483\n",
      "[28]\tvalidation_0-mlogloss:3.68651\tvalidation_1-mlogloss:3.82661\n",
      "[29]\tvalidation_0-mlogloss:3.6766\tvalidation_1-mlogloss:3.81868\n",
      "[30]\tvalidation_0-mlogloss:3.66747\tvalidation_1-mlogloss:3.81168\n",
      "[31]\tvalidation_0-mlogloss:3.65827\tvalidation_1-mlogloss:3.80455\n",
      "[32]\tvalidation_0-mlogloss:3.64948\tvalidation_1-mlogloss:3.79797\n",
      "[33]\tvalidation_0-mlogloss:3.64097\tvalidation_1-mlogloss:3.79122\n",
      "[34]\tvalidation_0-mlogloss:3.63276\tvalidation_1-mlogloss:3.78406\n",
      "[35]\tvalidation_0-mlogloss:3.62465\tvalidation_1-mlogloss:3.77812\n",
      "[36]\tvalidation_0-mlogloss:3.61717\tvalidation_1-mlogloss:3.77236\n",
      "[37]\tvalidation_0-mlogloss:3.60949\tvalidation_1-mlogloss:3.76684\n",
      "[38]\tvalidation_0-mlogloss:3.60216\tvalidation_1-mlogloss:3.76144\n",
      "[39]\tvalidation_0-mlogloss:3.59529\tvalidation_1-mlogloss:3.75662\n",
      "[40]\tvalidation_0-mlogloss:3.5886\tvalidation_1-mlogloss:3.75185\n",
      "[41]\tvalidation_0-mlogloss:3.58166\tvalidation_1-mlogloss:3.74633\n",
      "[42]\tvalidation_0-mlogloss:3.57519\tvalidation_1-mlogloss:3.74174\n",
      "[43]\tvalidation_0-mlogloss:3.56904\tvalidation_1-mlogloss:3.73729\n",
      "[44]\tvalidation_0-mlogloss:3.56306\tvalidation_1-mlogloss:3.73323\n",
      "[45]\tvalidation_0-mlogloss:3.55666\tvalidation_1-mlogloss:3.72894\n",
      "[46]\tvalidation_0-mlogloss:3.55055\tvalidation_1-mlogloss:3.72439\n",
      "[47]\tvalidation_0-mlogloss:3.54456\tvalidation_1-mlogloss:3.72019\n",
      "[48]\tvalidation_0-mlogloss:3.53904\tvalidation_1-mlogloss:3.71629\n",
      "[49]\tvalidation_0-mlogloss:3.53346\tvalidation_1-mlogloss:3.71247\n",
      "[50]\tvalidation_0-mlogloss:3.52797\tvalidation_1-mlogloss:3.70843\n",
      "[51]\tvalidation_0-mlogloss:3.52238\tvalidation_1-mlogloss:3.70482\n",
      "[52]\tvalidation_0-mlogloss:3.51698\tvalidation_1-mlogloss:3.70145\n",
      "[53]\tvalidation_0-mlogloss:3.51186\tvalidation_1-mlogloss:3.6983\n",
      "[54]\tvalidation_0-mlogloss:3.50691\tvalidation_1-mlogloss:3.69528\n",
      "[55]\tvalidation_0-mlogloss:3.50197\tvalidation_1-mlogloss:3.69216\n",
      "[56]\tvalidation_0-mlogloss:3.49691\tvalidation_1-mlogloss:3.6891\n",
      "[57]\tvalidation_0-mlogloss:3.49222\tvalidation_1-mlogloss:3.6865\n",
      "[58]\tvalidation_0-mlogloss:3.48753\tvalidation_1-mlogloss:3.68345\n",
      "[59]\tvalidation_0-mlogloss:3.48303\tvalidation_1-mlogloss:3.68084\n",
      "[60]\tvalidation_0-mlogloss:3.4784\tvalidation_1-mlogloss:3.67823\n",
      "[61]\tvalidation_0-mlogloss:3.47407\tvalidation_1-mlogloss:3.67596\n",
      "[62]\tvalidation_0-mlogloss:3.46951\tvalidation_1-mlogloss:3.6732\n",
      "[63]\tvalidation_0-mlogloss:3.46523\tvalidation_1-mlogloss:3.67103\n",
      "[64]\tvalidation_0-mlogloss:3.46084\tvalidation_1-mlogloss:3.6693\n",
      "[65]\tvalidation_0-mlogloss:3.45673\tvalidation_1-mlogloss:3.66733\n",
      "[66]\tvalidation_0-mlogloss:3.45299\tvalidation_1-mlogloss:3.6651\n",
      "[67]\tvalidation_0-mlogloss:3.4488\tvalidation_1-mlogloss:3.66264\n",
      "[68]\tvalidation_0-mlogloss:3.44478\tvalidation_1-mlogloss:3.6604\n",
      "[69]\tvalidation_0-mlogloss:3.44095\tvalidation_1-mlogloss:3.65855\n",
      "[70]\tvalidation_0-mlogloss:3.43691\tvalidation_1-mlogloss:3.65666\n",
      "[71]\tvalidation_0-mlogloss:3.43335\tvalidation_1-mlogloss:3.65499\n",
      "[72]\tvalidation_0-mlogloss:3.4295\tvalidation_1-mlogloss:3.65319\n",
      "[73]\tvalidation_0-mlogloss:3.42575\tvalidation_1-mlogloss:3.65116\n",
      "[74]\tvalidation_0-mlogloss:3.42211\tvalidation_1-mlogloss:3.64936\n",
      "[75]\tvalidation_0-mlogloss:3.41839\tvalidation_1-mlogloss:3.6476\n",
      "[76]\tvalidation_0-mlogloss:3.41499\tvalidation_1-mlogloss:3.64572\n",
      "[77]\tvalidation_0-mlogloss:3.41115\tvalidation_1-mlogloss:3.64441\n",
      "[78]\tvalidation_0-mlogloss:3.40764\tvalidation_1-mlogloss:3.64285\n",
      "[79]\tvalidation_0-mlogloss:3.4042\tvalidation_1-mlogloss:3.64136\n",
      "[80]\tvalidation_0-mlogloss:3.40075\tvalidation_1-mlogloss:3.63989\n",
      "[81]\tvalidation_0-mlogloss:3.39751\tvalidation_1-mlogloss:3.63826\n",
      "[82]\tvalidation_0-mlogloss:3.39419\tvalidation_1-mlogloss:3.63689\n",
      "[83]\tvalidation_0-mlogloss:3.39083\tvalidation_1-mlogloss:3.63559\n",
      "[84]\tvalidation_0-mlogloss:3.38731\tvalidation_1-mlogloss:3.63429\n",
      "[85]\tvalidation_0-mlogloss:3.38414\tvalidation_1-mlogloss:3.63319\n",
      "[86]\tvalidation_0-mlogloss:3.38097\tvalidation_1-mlogloss:3.6319\n",
      "[87]\tvalidation_0-mlogloss:3.37787\tvalidation_1-mlogloss:3.63074\n",
      "[88]\tvalidation_0-mlogloss:3.37467\tvalidation_1-mlogloss:3.62883\n",
      "[89]\tvalidation_0-mlogloss:3.37159\tvalidation_1-mlogloss:3.62753\n",
      "[90]\tvalidation_0-mlogloss:3.36865\tvalidation_1-mlogloss:3.62652\n",
      "[91]\tvalidation_0-mlogloss:3.36539\tvalidation_1-mlogloss:3.62503\n",
      "[92]\tvalidation_0-mlogloss:3.36246\tvalidation_1-mlogloss:3.62396\n",
      "[93]\tvalidation_0-mlogloss:3.35941\tvalidation_1-mlogloss:3.62279\n",
      "[94]\tvalidation_0-mlogloss:3.35645\tvalidation_1-mlogloss:3.6216\n",
      "[95]\tvalidation_0-mlogloss:3.35357\tvalidation_1-mlogloss:3.62044\n",
      "[96]\tvalidation_0-mlogloss:3.3505\tvalidation_1-mlogloss:3.61935\n",
      "[97]\tvalidation_0-mlogloss:3.34748\tvalidation_1-mlogloss:3.618\n",
      "[98]\tvalidation_0-mlogloss:3.34454\tvalidation_1-mlogloss:3.61666\n",
      "[99]\tvalidation_0-mlogloss:3.34154\tvalidation_1-mlogloss:3.61556\n",
      "[100]\tvalidation_0-mlogloss:3.33868\tvalidation_1-mlogloss:3.61451\n",
      "[101]\tvalidation_0-mlogloss:3.33573\tvalidation_1-mlogloss:3.61328\n",
      "[102]\tvalidation_0-mlogloss:3.3329\tvalidation_1-mlogloss:3.61196\n",
      "[103]\tvalidation_0-mlogloss:3.33022\tvalidation_1-mlogloss:3.61071\n",
      "[104]\tvalidation_0-mlogloss:3.32746\tvalidation_1-mlogloss:3.60983\n",
      "[105]\tvalidation_0-mlogloss:3.32478\tvalidation_1-mlogloss:3.60866\n",
      "[106]\tvalidation_0-mlogloss:3.32192\tvalidation_1-mlogloss:3.60765\n",
      "[107]\tvalidation_0-mlogloss:3.3193\tvalidation_1-mlogloss:3.60669\n",
      "[108]\tvalidation_0-mlogloss:3.31643\tvalidation_1-mlogloss:3.60585\n",
      "[109]\tvalidation_0-mlogloss:3.31376\tvalidation_1-mlogloss:3.60476\n",
      "[110]\tvalidation_0-mlogloss:3.3112\tvalidation_1-mlogloss:3.60388\n",
      "[111]\tvalidation_0-mlogloss:3.30854\tvalidation_1-mlogloss:3.60275\n",
      "[112]\tvalidation_0-mlogloss:3.30584\tvalidation_1-mlogloss:3.60176\n",
      "[113]\tvalidation_0-mlogloss:3.3032\tvalidation_1-mlogloss:3.60076\n",
      "[114]\tvalidation_0-mlogloss:3.30049\tvalidation_1-mlogloss:3.59979\n",
      "[115]\tvalidation_0-mlogloss:3.29791\tvalidation_1-mlogloss:3.59847\n",
      "[116]\tvalidation_0-mlogloss:3.29532\tvalidation_1-mlogloss:3.59759\n",
      "[117]\tvalidation_0-mlogloss:3.29271\tvalidation_1-mlogloss:3.59669\n",
      "[118]\tvalidation_0-mlogloss:3.29002\tvalidation_1-mlogloss:3.59601\n",
      "[119]\tvalidation_0-mlogloss:3.28753\tvalidation_1-mlogloss:3.59507\n",
      "[120]\tvalidation_0-mlogloss:3.28479\tvalidation_1-mlogloss:3.59411\n",
      "[121]\tvalidation_0-mlogloss:3.28235\tvalidation_1-mlogloss:3.59334\n",
      "[122]\tvalidation_0-mlogloss:3.27976\tvalidation_1-mlogloss:3.59276\n",
      "[123]\tvalidation_0-mlogloss:3.2775\tvalidation_1-mlogloss:3.59202\n"
     ]
    },
    {
     "name": "stdout",
     "output_type": "stream",
     "text": [
      "[124]\tvalidation_0-mlogloss:3.27508\tvalidation_1-mlogloss:3.59131\n",
      "[125]\tvalidation_0-mlogloss:3.27247\tvalidation_1-mlogloss:3.59053\n",
      "[126]\tvalidation_0-mlogloss:3.27004\tvalidation_1-mlogloss:3.58998\n",
      "[127]\tvalidation_0-mlogloss:3.26768\tvalidation_1-mlogloss:3.58938\n",
      "[128]\tvalidation_0-mlogloss:3.26534\tvalidation_1-mlogloss:3.58853\n",
      "[129]\tvalidation_0-mlogloss:3.26292\tvalidation_1-mlogloss:3.5879\n",
      "[130]\tvalidation_0-mlogloss:3.26066\tvalidation_1-mlogloss:3.5873\n",
      "[131]\tvalidation_0-mlogloss:3.25819\tvalidation_1-mlogloss:3.58679\n",
      "[132]\tvalidation_0-mlogloss:3.25594\tvalidation_1-mlogloss:3.58627\n",
      "[133]\tvalidation_0-mlogloss:3.2534\tvalidation_1-mlogloss:3.58536\n",
      "[134]\tvalidation_0-mlogloss:3.251\tvalidation_1-mlogloss:3.58483\n",
      "[135]\tvalidation_0-mlogloss:3.24847\tvalidation_1-mlogloss:3.5842\n",
      "[136]\tvalidation_0-mlogloss:3.24612\tvalidation_1-mlogloss:3.58368\n",
      "[137]\tvalidation_0-mlogloss:3.24397\tvalidation_1-mlogloss:3.58305\n",
      "[138]\tvalidation_0-mlogloss:3.24172\tvalidation_1-mlogloss:3.58259\n",
      "[139]\tvalidation_0-mlogloss:3.23939\tvalidation_1-mlogloss:3.58178\n",
      "[140]\tvalidation_0-mlogloss:3.23708\tvalidation_1-mlogloss:3.58131\n",
      "[141]\tvalidation_0-mlogloss:3.2347\tvalidation_1-mlogloss:3.58098\n",
      "[142]\tvalidation_0-mlogloss:3.23255\tvalidation_1-mlogloss:3.58027\n",
      "[143]\tvalidation_0-mlogloss:3.23042\tvalidation_1-mlogloss:3.57974\n",
      "[144]\tvalidation_0-mlogloss:3.22828\tvalidation_1-mlogloss:3.57893\n",
      "[145]\tvalidation_0-mlogloss:3.22606\tvalidation_1-mlogloss:3.57837\n",
      "[146]\tvalidation_0-mlogloss:3.22385\tvalidation_1-mlogloss:3.5779\n",
      "[147]\tvalidation_0-mlogloss:3.22152\tvalidation_1-mlogloss:3.57716\n",
      "[148]\tvalidation_0-mlogloss:3.21924\tvalidation_1-mlogloss:3.57639\n",
      "[149]\tvalidation_0-mlogloss:3.21704\tvalidation_1-mlogloss:3.57572\n",
      "[150]\tvalidation_0-mlogloss:3.215\tvalidation_1-mlogloss:3.57508\n",
      "[151]\tvalidation_0-mlogloss:3.21297\tvalidation_1-mlogloss:3.57463\n",
      "[152]\tvalidation_0-mlogloss:3.211\tvalidation_1-mlogloss:3.57407\n",
      "[153]\tvalidation_0-mlogloss:3.20897\tvalidation_1-mlogloss:3.57346\n",
      "[154]\tvalidation_0-mlogloss:3.20682\tvalidation_1-mlogloss:3.57292\n",
      "[155]\tvalidation_0-mlogloss:3.20474\tvalidation_1-mlogloss:3.5725\n",
      "[156]\tvalidation_0-mlogloss:3.20264\tvalidation_1-mlogloss:3.57199\n",
      "[157]\tvalidation_0-mlogloss:3.20041\tvalidation_1-mlogloss:3.57131\n",
      "[158]\tvalidation_0-mlogloss:3.19837\tvalidation_1-mlogloss:3.57073\n",
      "[159]\tvalidation_0-mlogloss:3.1962\tvalidation_1-mlogloss:3.56994\n",
      "[160]\tvalidation_0-mlogloss:3.19406\tvalidation_1-mlogloss:3.56936\n",
      "[161]\tvalidation_0-mlogloss:3.19195\tvalidation_1-mlogloss:3.56868\n",
      "[162]\tvalidation_0-mlogloss:3.18976\tvalidation_1-mlogloss:3.5681\n",
      "[163]\tvalidation_0-mlogloss:3.18773\tvalidation_1-mlogloss:3.56764\n",
      "[164]\tvalidation_0-mlogloss:3.18562\tvalidation_1-mlogloss:3.56693\n",
      "[165]\tvalidation_0-mlogloss:3.1838\tvalidation_1-mlogloss:3.56656\n",
      "[166]\tvalidation_0-mlogloss:3.18193\tvalidation_1-mlogloss:3.56621\n",
      "[167]\tvalidation_0-mlogloss:3.17996\tvalidation_1-mlogloss:3.56551\n",
      "[168]\tvalidation_0-mlogloss:3.17799\tvalidation_1-mlogloss:3.56503\n",
      "[169]\tvalidation_0-mlogloss:3.17584\tvalidation_1-mlogloss:3.56471\n",
      "[170]\tvalidation_0-mlogloss:3.17381\tvalidation_1-mlogloss:3.56397\n",
      "[171]\tvalidation_0-mlogloss:3.17173\tvalidation_1-mlogloss:3.56354\n",
      "[172]\tvalidation_0-mlogloss:3.16977\tvalidation_1-mlogloss:3.56317\n",
      "[173]\tvalidation_0-mlogloss:3.16768\tvalidation_1-mlogloss:3.56252\n",
      "[174]\tvalidation_0-mlogloss:3.16568\tvalidation_1-mlogloss:3.56195\n",
      "[175]\tvalidation_0-mlogloss:3.16361\tvalidation_1-mlogloss:3.56149\n",
      "[176]\tvalidation_0-mlogloss:3.16166\tvalidation_1-mlogloss:3.56113\n",
      "[177]\tvalidation_0-mlogloss:3.15964\tvalidation_1-mlogloss:3.56047\n",
      "[178]\tvalidation_0-mlogloss:3.15769\tvalidation_1-mlogloss:3.55996\n",
      "[179]\tvalidation_0-mlogloss:3.15602\tvalidation_1-mlogloss:3.55961\n",
      "[180]\tvalidation_0-mlogloss:3.1541\tvalidation_1-mlogloss:3.55916\n",
      "[181]\tvalidation_0-mlogloss:3.15232\tvalidation_1-mlogloss:3.55883\n",
      "[182]\tvalidation_0-mlogloss:3.15068\tvalidation_1-mlogloss:3.55846\n",
      "[183]\tvalidation_0-mlogloss:3.14874\tvalidation_1-mlogloss:3.55799\n",
      "[184]\tvalidation_0-mlogloss:3.14687\tvalidation_1-mlogloss:3.55758\n",
      "[185]\tvalidation_0-mlogloss:3.14506\tvalidation_1-mlogloss:3.55702\n",
      "[186]\tvalidation_0-mlogloss:3.14316\tvalidation_1-mlogloss:3.55661\n",
      "[187]\tvalidation_0-mlogloss:3.14119\tvalidation_1-mlogloss:3.55618\n",
      "[188]\tvalidation_0-mlogloss:3.13929\tvalidation_1-mlogloss:3.55552\n",
      "[189]\tvalidation_0-mlogloss:3.13748\tvalidation_1-mlogloss:3.5553\n",
      "[190]\tvalidation_0-mlogloss:3.13557\tvalidation_1-mlogloss:3.55499\n",
      "[191]\tvalidation_0-mlogloss:3.13384\tvalidation_1-mlogloss:3.5546\n",
      "[192]\tvalidation_0-mlogloss:3.13207\tvalidation_1-mlogloss:3.55395\n",
      "[193]\tvalidation_0-mlogloss:3.13024\tvalidation_1-mlogloss:3.55351\n",
      "[194]\tvalidation_0-mlogloss:3.12836\tvalidation_1-mlogloss:3.55309\n",
      "[195]\tvalidation_0-mlogloss:3.12643\tvalidation_1-mlogloss:3.55259\n",
      "[196]\tvalidation_0-mlogloss:3.12463\tvalidation_1-mlogloss:3.55229\n",
      "[197]\tvalidation_0-mlogloss:3.12296\tvalidation_1-mlogloss:3.55216\n",
      "[198]\tvalidation_0-mlogloss:3.12111\tvalidation_1-mlogloss:3.55161\n",
      "[199]\tvalidation_0-mlogloss:3.11937\tvalidation_1-mlogloss:3.55124\n",
      "[200]\tvalidation_0-mlogloss:3.11758\tvalidation_1-mlogloss:3.55098\n",
      "[201]\tvalidation_0-mlogloss:3.11582\tvalidation_1-mlogloss:3.55038\n",
      "[202]\tvalidation_0-mlogloss:3.11401\tvalidation_1-mlogloss:3.54993\n",
      "[203]\tvalidation_0-mlogloss:3.11218\tvalidation_1-mlogloss:3.54978\n",
      "[204]\tvalidation_0-mlogloss:3.11048\tvalidation_1-mlogloss:3.54935\n",
      "[205]\tvalidation_0-mlogloss:3.10876\tvalidation_1-mlogloss:3.54908\n",
      "[206]\tvalidation_0-mlogloss:3.10715\tvalidation_1-mlogloss:3.5486\n",
      "[207]\tvalidation_0-mlogloss:3.10528\tvalidation_1-mlogloss:3.54817\n",
      "[208]\tvalidation_0-mlogloss:3.10344\tvalidation_1-mlogloss:3.54789\n",
      "[209]\tvalidation_0-mlogloss:3.10163\tvalidation_1-mlogloss:3.54782\n",
      "[210]\tvalidation_0-mlogloss:3.09991\tvalidation_1-mlogloss:3.54747\n",
      "[211]\tvalidation_0-mlogloss:3.0984\tvalidation_1-mlogloss:3.54725\n",
      "[212]\tvalidation_0-mlogloss:3.09653\tvalidation_1-mlogloss:3.5467\n",
      "[213]\tvalidation_0-mlogloss:3.09485\tvalidation_1-mlogloss:3.54644\n",
      "[214]\tvalidation_0-mlogloss:3.09315\tvalidation_1-mlogloss:3.54607\n",
      "[215]\tvalidation_0-mlogloss:3.09142\tvalidation_1-mlogloss:3.54583\n",
      "[216]\tvalidation_0-mlogloss:3.08986\tvalidation_1-mlogloss:3.54569\n",
      "[217]\tvalidation_0-mlogloss:3.08818\tvalidation_1-mlogloss:3.54522\n",
      "[218]\tvalidation_0-mlogloss:3.08655\tvalidation_1-mlogloss:3.54482\n",
      "[219]\tvalidation_0-mlogloss:3.0849\tvalidation_1-mlogloss:3.54439\n",
      "[220]\tvalidation_0-mlogloss:3.08308\tvalidation_1-mlogloss:3.54395\n",
      "[221]\tvalidation_0-mlogloss:3.08138\tvalidation_1-mlogloss:3.54373\n",
      "[222]\tvalidation_0-mlogloss:3.07968\tvalidation_1-mlogloss:3.54337\n",
      "[223]\tvalidation_0-mlogloss:3.07802\tvalidation_1-mlogloss:3.54288\n",
      "[224]\tvalidation_0-mlogloss:3.07617\tvalidation_1-mlogloss:3.54265\n",
      "[225]\tvalidation_0-mlogloss:3.0744\tvalidation_1-mlogloss:3.54223\n",
      "[226]\tvalidation_0-mlogloss:3.07258\tvalidation_1-mlogloss:3.54169\n",
      "[227]\tvalidation_0-mlogloss:3.07089\tvalidation_1-mlogloss:3.54128\n",
      "[228]\tvalidation_0-mlogloss:3.0692\tvalidation_1-mlogloss:3.5411\n",
      "[229]\tvalidation_0-mlogloss:3.06747\tvalidation_1-mlogloss:3.54072\n",
      "[230]\tvalidation_0-mlogloss:3.06593\tvalidation_1-mlogloss:3.54026\n",
      "[231]\tvalidation_0-mlogloss:3.06435\tvalidation_1-mlogloss:3.54012\n",
      "[232]\tvalidation_0-mlogloss:3.06272\tvalidation_1-mlogloss:3.53964\n",
      "[233]\tvalidation_0-mlogloss:3.06119\tvalidation_1-mlogloss:3.53929\n",
      "[234]\tvalidation_0-mlogloss:3.05961\tvalidation_1-mlogloss:3.53903\n",
      "[235]\tvalidation_0-mlogloss:3.05783\tvalidation_1-mlogloss:3.53866\n",
      "[236]\tvalidation_0-mlogloss:3.05624\tvalidation_1-mlogloss:3.53842\n",
      "[237]\tvalidation_0-mlogloss:3.05453\tvalidation_1-mlogloss:3.53795\n",
      "[238]\tvalidation_0-mlogloss:3.05301\tvalidation_1-mlogloss:3.53754\n",
      "[239]\tvalidation_0-mlogloss:3.05137\tvalidation_1-mlogloss:3.53714\n",
      "[240]\tvalidation_0-mlogloss:3.04975\tvalidation_1-mlogloss:3.5367\n",
      "[241]\tvalidation_0-mlogloss:3.0481\tvalidation_1-mlogloss:3.53638\n",
      "[242]\tvalidation_0-mlogloss:3.04649\tvalidation_1-mlogloss:3.53611\n",
      "[243]\tvalidation_0-mlogloss:3.04481\tvalidation_1-mlogloss:3.53584\n",
      "[244]\tvalidation_0-mlogloss:3.0432\tvalidation_1-mlogloss:3.53564\n",
      "[245]\tvalidation_0-mlogloss:3.04163\tvalidation_1-mlogloss:3.53525\n",
      "[246]\tvalidation_0-mlogloss:3.04018\tvalidation_1-mlogloss:3.53494\n",
      "[247]\tvalidation_0-mlogloss:3.03871\tvalidation_1-mlogloss:3.53489\n",
      "[248]\tvalidation_0-mlogloss:3.03727\tvalidation_1-mlogloss:3.53476\n"
     ]
    },
    {
     "name": "stdout",
     "output_type": "stream",
     "text": [
      "[249]\tvalidation_0-mlogloss:3.03564\tvalidation_1-mlogloss:3.53432\n",
      "[250]\tvalidation_0-mlogloss:3.03412\tvalidation_1-mlogloss:3.53401\n",
      "[251]\tvalidation_0-mlogloss:3.03254\tvalidation_1-mlogloss:3.53353\n",
      "[252]\tvalidation_0-mlogloss:3.03098\tvalidation_1-mlogloss:3.53321\n",
      "[253]\tvalidation_0-mlogloss:3.02938\tvalidation_1-mlogloss:3.53285\n",
      "[254]\tvalidation_0-mlogloss:3.02795\tvalidation_1-mlogloss:3.53273\n",
      "[255]\tvalidation_0-mlogloss:3.02638\tvalidation_1-mlogloss:3.53242\n",
      "[256]\tvalidation_0-mlogloss:3.02483\tvalidation_1-mlogloss:3.53206\n",
      "[257]\tvalidation_0-mlogloss:3.02332\tvalidation_1-mlogloss:3.5318\n",
      "[258]\tvalidation_0-mlogloss:3.0219\tvalidation_1-mlogloss:3.53153\n",
      "[259]\tvalidation_0-mlogloss:3.02045\tvalidation_1-mlogloss:3.53138\n",
      "[260]\tvalidation_0-mlogloss:3.01905\tvalidation_1-mlogloss:3.5311\n",
      "[261]\tvalidation_0-mlogloss:3.01758\tvalidation_1-mlogloss:3.53079\n",
      "[262]\tvalidation_0-mlogloss:3.01605\tvalidation_1-mlogloss:3.53057\n",
      "[263]\tvalidation_0-mlogloss:3.01453\tvalidation_1-mlogloss:3.5304\n",
      "[264]\tvalidation_0-mlogloss:3.01305\tvalidation_1-mlogloss:3.5301\n",
      "[265]\tvalidation_0-mlogloss:3.01143\tvalidation_1-mlogloss:3.52985\n",
      "[266]\tvalidation_0-mlogloss:3.0099\tvalidation_1-mlogloss:3.52949\n",
      "[267]\tvalidation_0-mlogloss:3.00841\tvalidation_1-mlogloss:3.52929\n",
      "[268]\tvalidation_0-mlogloss:3.00689\tvalidation_1-mlogloss:3.52886\n",
      "[269]\tvalidation_0-mlogloss:3.00544\tvalidation_1-mlogloss:3.52832\n",
      "[270]\tvalidation_0-mlogloss:3.00384\tvalidation_1-mlogloss:3.52804\n",
      "[271]\tvalidation_0-mlogloss:3.00225\tvalidation_1-mlogloss:3.52786\n",
      "[272]\tvalidation_0-mlogloss:3.00092\tvalidation_1-mlogloss:3.52774\n",
      "[273]\tvalidation_0-mlogloss:2.99937\tvalidation_1-mlogloss:3.52759\n",
      "[274]\tvalidation_0-mlogloss:2.99785\tvalidation_1-mlogloss:3.52732\n",
      "[275]\tvalidation_0-mlogloss:2.99636\tvalidation_1-mlogloss:3.52703\n",
      "[276]\tvalidation_0-mlogloss:2.99494\tvalidation_1-mlogloss:3.52697\n",
      "[277]\tvalidation_0-mlogloss:2.99364\tvalidation_1-mlogloss:3.52705\n",
      "[278]\tvalidation_0-mlogloss:2.99209\tvalidation_1-mlogloss:3.5266\n",
      "[279]\tvalidation_0-mlogloss:2.99052\tvalidation_1-mlogloss:3.52623\n",
      "[280]\tvalidation_0-mlogloss:2.9892\tvalidation_1-mlogloss:3.52595\n",
      "[281]\tvalidation_0-mlogloss:2.98776\tvalidation_1-mlogloss:3.52571\n",
      "[282]\tvalidation_0-mlogloss:2.98633\tvalidation_1-mlogloss:3.52543\n",
      "[283]\tvalidation_0-mlogloss:2.9848\tvalidation_1-mlogloss:3.52511\n",
      "[284]\tvalidation_0-mlogloss:2.98343\tvalidation_1-mlogloss:3.52519\n",
      "[285]\tvalidation_0-mlogloss:2.98198\tvalidation_1-mlogloss:3.52482\n",
      "[286]\tvalidation_0-mlogloss:2.98064\tvalidation_1-mlogloss:3.52453\n",
      "[287]\tvalidation_0-mlogloss:2.97934\tvalidation_1-mlogloss:3.52428\n",
      "[288]\tvalidation_0-mlogloss:2.97802\tvalidation_1-mlogloss:3.52424\n",
      "[289]\tvalidation_0-mlogloss:2.97655\tvalidation_1-mlogloss:3.52396\n",
      "[290]\tvalidation_0-mlogloss:2.97515\tvalidation_1-mlogloss:3.5238\n",
      "[291]\tvalidation_0-mlogloss:2.97373\tvalidation_1-mlogloss:3.5238\n",
      "[292]\tvalidation_0-mlogloss:2.97234\tvalidation_1-mlogloss:3.52337\n",
      "[293]\tvalidation_0-mlogloss:2.97095\tvalidation_1-mlogloss:3.52321\n",
      "[294]\tvalidation_0-mlogloss:2.96961\tvalidation_1-mlogloss:3.52306\n",
      "[295]\tvalidation_0-mlogloss:2.96819\tvalidation_1-mlogloss:3.52285\n",
      "[296]\tvalidation_0-mlogloss:2.96674\tvalidation_1-mlogloss:3.52274\n",
      "[297]\tvalidation_0-mlogloss:2.96538\tvalidation_1-mlogloss:3.52274\n",
      "[298]\tvalidation_0-mlogloss:2.96391\tvalidation_1-mlogloss:3.52244\n",
      "[299]\tvalidation_0-mlogloss:2.96264\tvalidation_1-mlogloss:3.52215\n",
      "[300]\tvalidation_0-mlogloss:2.96122\tvalidation_1-mlogloss:3.52187\n",
      "[301]\tvalidation_0-mlogloss:2.95981\tvalidation_1-mlogloss:3.52158\n",
      "[302]\tvalidation_0-mlogloss:2.95822\tvalidation_1-mlogloss:3.52134\n",
      "[303]\tvalidation_0-mlogloss:2.9569\tvalidation_1-mlogloss:3.52113\n",
      "[304]\tvalidation_0-mlogloss:2.95566\tvalidation_1-mlogloss:3.52086\n",
      "[305]\tvalidation_0-mlogloss:2.95428\tvalidation_1-mlogloss:3.52059\n",
      "[306]\tvalidation_0-mlogloss:2.95303\tvalidation_1-mlogloss:3.52039\n",
      "[307]\tvalidation_0-mlogloss:2.95161\tvalidation_1-mlogloss:3.52018\n",
      "[308]\tvalidation_0-mlogloss:2.9503\tvalidation_1-mlogloss:3.51994\n",
      "[309]\tvalidation_0-mlogloss:2.94894\tvalidation_1-mlogloss:3.51988\n",
      "[310]\tvalidation_0-mlogloss:2.94757\tvalidation_1-mlogloss:3.5198\n",
      "[311]\tvalidation_0-mlogloss:2.94611\tvalidation_1-mlogloss:3.51953\n",
      "[312]\tvalidation_0-mlogloss:2.94471\tvalidation_1-mlogloss:3.51941\n",
      "[313]\tvalidation_0-mlogloss:2.94328\tvalidation_1-mlogloss:3.51906\n",
      "[314]\tvalidation_0-mlogloss:2.94186\tvalidation_1-mlogloss:3.51892\n",
      "[315]\tvalidation_0-mlogloss:2.94064\tvalidation_1-mlogloss:3.51863\n",
      "[316]\tvalidation_0-mlogloss:2.93926\tvalidation_1-mlogloss:3.51833\n",
      "[317]\tvalidation_0-mlogloss:2.93783\tvalidation_1-mlogloss:3.51806\n",
      "[318]\tvalidation_0-mlogloss:2.93652\tvalidation_1-mlogloss:3.5179\n",
      "[319]\tvalidation_0-mlogloss:2.9352\tvalidation_1-mlogloss:3.51774\n",
      "[320]\tvalidation_0-mlogloss:2.93393\tvalidation_1-mlogloss:3.51772\n",
      "[321]\tvalidation_0-mlogloss:2.93268\tvalidation_1-mlogloss:3.51749\n",
      "[322]\tvalidation_0-mlogloss:2.93126\tvalidation_1-mlogloss:3.51707\n",
      "[323]\tvalidation_0-mlogloss:2.92991\tvalidation_1-mlogloss:3.51696\n",
      "[324]\tvalidation_0-mlogloss:2.92862\tvalidation_1-mlogloss:3.51686\n",
      "[325]\tvalidation_0-mlogloss:2.92723\tvalidation_1-mlogloss:3.51658\n",
      "[326]\tvalidation_0-mlogloss:2.92595\tvalidation_1-mlogloss:3.51659\n",
      "[327]\tvalidation_0-mlogloss:2.92467\tvalidation_1-mlogloss:3.51641\n",
      "[328]\tvalidation_0-mlogloss:2.92328\tvalidation_1-mlogloss:3.51613\n",
      "[329]\tvalidation_0-mlogloss:2.92198\tvalidation_1-mlogloss:3.51586\n",
      "[330]\tvalidation_0-mlogloss:2.92079\tvalidation_1-mlogloss:3.51572\n",
      "[331]\tvalidation_0-mlogloss:2.91957\tvalidation_1-mlogloss:3.5155\n",
      "[332]\tvalidation_0-mlogloss:2.9183\tvalidation_1-mlogloss:3.51531\n",
      "[333]\tvalidation_0-mlogloss:2.91708\tvalidation_1-mlogloss:3.51523\n",
      "[334]\tvalidation_0-mlogloss:2.91586\tvalidation_1-mlogloss:3.51506\n",
      "[335]\tvalidation_0-mlogloss:2.91453\tvalidation_1-mlogloss:3.51484\n",
      "[336]\tvalidation_0-mlogloss:2.91308\tvalidation_1-mlogloss:3.5147\n",
      "[337]\tvalidation_0-mlogloss:2.91189\tvalidation_1-mlogloss:3.5144\n",
      "[338]\tvalidation_0-mlogloss:2.91056\tvalidation_1-mlogloss:3.51405\n",
      "[339]\tvalidation_0-mlogloss:2.90907\tvalidation_1-mlogloss:3.51383\n",
      "[340]\tvalidation_0-mlogloss:2.90771\tvalidation_1-mlogloss:3.51377\n",
      "[341]\tvalidation_0-mlogloss:2.90632\tvalidation_1-mlogloss:3.5136\n",
      "[342]\tvalidation_0-mlogloss:2.90491\tvalidation_1-mlogloss:3.51334\n",
      "[343]\tvalidation_0-mlogloss:2.90361\tvalidation_1-mlogloss:3.51303\n",
      "[344]\tvalidation_0-mlogloss:2.90239\tvalidation_1-mlogloss:3.51299\n",
      "[345]\tvalidation_0-mlogloss:2.90104\tvalidation_1-mlogloss:3.51289\n",
      "[346]\tvalidation_0-mlogloss:2.89974\tvalidation_1-mlogloss:3.51279\n",
      "[347]\tvalidation_0-mlogloss:2.89852\tvalidation_1-mlogloss:3.51268\n",
      "[348]\tvalidation_0-mlogloss:2.89727\tvalidation_1-mlogloss:3.5126\n",
      "[349]\tvalidation_0-mlogloss:2.89601\tvalidation_1-mlogloss:3.51243\n",
      "[350]\tvalidation_0-mlogloss:2.89471\tvalidation_1-mlogloss:3.51231\n",
      "[351]\tvalidation_0-mlogloss:2.89351\tvalidation_1-mlogloss:3.512\n",
      "[352]\tvalidation_0-mlogloss:2.8922\tvalidation_1-mlogloss:3.51176\n",
      "[353]\tvalidation_0-mlogloss:2.89097\tvalidation_1-mlogloss:3.51158\n",
      "[354]\tvalidation_0-mlogloss:2.88965\tvalidation_1-mlogloss:3.51142\n",
      "[355]\tvalidation_0-mlogloss:2.88835\tvalidation_1-mlogloss:3.51108\n",
      "[356]\tvalidation_0-mlogloss:2.88704\tvalidation_1-mlogloss:3.5108\n",
      "[357]\tvalidation_0-mlogloss:2.8856\tvalidation_1-mlogloss:3.51059\n",
      "[358]\tvalidation_0-mlogloss:2.8843\tvalidation_1-mlogloss:3.51028\n",
      "[359]\tvalidation_0-mlogloss:2.88298\tvalidation_1-mlogloss:3.51016\n",
      "[360]\tvalidation_0-mlogloss:2.88177\tvalidation_1-mlogloss:3.50987\n",
      "[361]\tvalidation_0-mlogloss:2.88057\tvalidation_1-mlogloss:3.50979\n",
      "[362]\tvalidation_0-mlogloss:2.8794\tvalidation_1-mlogloss:3.50967\n",
      "[363]\tvalidation_0-mlogloss:2.87818\tvalidation_1-mlogloss:3.50962\n",
      "[364]\tvalidation_0-mlogloss:2.87682\tvalidation_1-mlogloss:3.50966\n",
      "[365]\tvalidation_0-mlogloss:2.87565\tvalidation_1-mlogloss:3.50952\n",
      "[366]\tvalidation_0-mlogloss:2.87452\tvalidation_1-mlogloss:3.50945\n",
      "[367]\tvalidation_0-mlogloss:2.87326\tvalidation_1-mlogloss:3.5092\n",
      "[368]\tvalidation_0-mlogloss:2.87194\tvalidation_1-mlogloss:3.5091\n",
      "[369]\tvalidation_0-mlogloss:2.87076\tvalidation_1-mlogloss:3.509\n",
      "[370]\tvalidation_0-mlogloss:2.86946\tvalidation_1-mlogloss:3.50897\n",
      "[371]\tvalidation_0-mlogloss:2.86829\tvalidation_1-mlogloss:3.50883\n",
      "[372]\tvalidation_0-mlogloss:2.86701\tvalidation_1-mlogloss:3.50865\n",
      "[373]\tvalidation_0-mlogloss:2.86583\tvalidation_1-mlogloss:3.50849\n"
     ]
    },
    {
     "name": "stdout",
     "output_type": "stream",
     "text": [
      "[374]\tvalidation_0-mlogloss:2.8646\tvalidation_1-mlogloss:3.50813\n",
      "[375]\tvalidation_0-mlogloss:2.86349\tvalidation_1-mlogloss:3.50792\n",
      "[376]\tvalidation_0-mlogloss:2.86241\tvalidation_1-mlogloss:3.50774\n",
      "[377]\tvalidation_0-mlogloss:2.86118\tvalidation_1-mlogloss:3.50758\n",
      "[378]\tvalidation_0-mlogloss:2.85993\tvalidation_1-mlogloss:3.50752\n",
      "[379]\tvalidation_0-mlogloss:2.85871\tvalidation_1-mlogloss:3.50733\n",
      "[380]\tvalidation_0-mlogloss:2.85738\tvalidation_1-mlogloss:3.50696\n",
      "[381]\tvalidation_0-mlogloss:2.8562\tvalidation_1-mlogloss:3.50677\n",
      "[382]\tvalidation_0-mlogloss:2.85504\tvalidation_1-mlogloss:3.50671\n",
      "[383]\tvalidation_0-mlogloss:2.8539\tvalidation_1-mlogloss:3.50649\n",
      "[384]\tvalidation_0-mlogloss:2.85257\tvalidation_1-mlogloss:3.50633\n",
      "[385]\tvalidation_0-mlogloss:2.85141\tvalidation_1-mlogloss:3.50627\n",
      "[386]\tvalidation_0-mlogloss:2.85027\tvalidation_1-mlogloss:3.50618\n",
      "[387]\tvalidation_0-mlogloss:2.84921\tvalidation_1-mlogloss:3.50607\n",
      "[388]\tvalidation_0-mlogloss:2.84791\tvalidation_1-mlogloss:3.50604\n",
      "[389]\tvalidation_0-mlogloss:2.84662\tvalidation_1-mlogloss:3.50582\n",
      "[390]\tvalidation_0-mlogloss:2.84547\tvalidation_1-mlogloss:3.50561\n",
      "[391]\tvalidation_0-mlogloss:2.84423\tvalidation_1-mlogloss:3.50542\n",
      "[392]\tvalidation_0-mlogloss:2.84307\tvalidation_1-mlogloss:3.50522\n",
      "[393]\tvalidation_0-mlogloss:2.84187\tvalidation_1-mlogloss:3.50528\n",
      "[394]\tvalidation_0-mlogloss:2.8406\tvalidation_1-mlogloss:3.50506\n",
      "[395]\tvalidation_0-mlogloss:2.83945\tvalidation_1-mlogloss:3.50482\n",
      "[396]\tvalidation_0-mlogloss:2.83834\tvalidation_1-mlogloss:3.50468\n",
      "[397]\tvalidation_0-mlogloss:2.83723\tvalidation_1-mlogloss:3.50466\n",
      "[398]\tvalidation_0-mlogloss:2.83607\tvalidation_1-mlogloss:3.50469\n",
      "[399]\tvalidation_0-mlogloss:2.83496\tvalidation_1-mlogloss:3.50444\n",
      "[400]\tvalidation_0-mlogloss:2.83372\tvalidation_1-mlogloss:3.50427\n",
      "[401]\tvalidation_0-mlogloss:2.83261\tvalidation_1-mlogloss:3.50408\n",
      "[402]\tvalidation_0-mlogloss:2.83151\tvalidation_1-mlogloss:3.50395\n",
      "[403]\tvalidation_0-mlogloss:2.83033\tvalidation_1-mlogloss:3.50396\n",
      "[404]\tvalidation_0-mlogloss:2.82915\tvalidation_1-mlogloss:3.50373\n",
      "[405]\tvalidation_0-mlogloss:2.82804\tvalidation_1-mlogloss:3.50381\n",
      "[406]\tvalidation_0-mlogloss:2.82687\tvalidation_1-mlogloss:3.50355\n",
      "[407]\tvalidation_0-mlogloss:2.82572\tvalidation_1-mlogloss:3.50342\n",
      "[408]\tvalidation_0-mlogloss:2.82467\tvalidation_1-mlogloss:3.50328\n",
      "[409]\tvalidation_0-mlogloss:2.82355\tvalidation_1-mlogloss:3.50298\n",
      "[410]\tvalidation_0-mlogloss:2.82237\tvalidation_1-mlogloss:3.50279\n",
      "[411]\tvalidation_0-mlogloss:2.82117\tvalidation_1-mlogloss:3.5028\n",
      "[412]\tvalidation_0-mlogloss:2.82008\tvalidation_1-mlogloss:3.50274\n",
      "[413]\tvalidation_0-mlogloss:2.8189\tvalidation_1-mlogloss:3.50252\n",
      "[414]\tvalidation_0-mlogloss:2.81773\tvalidation_1-mlogloss:3.50229\n",
      "[415]\tvalidation_0-mlogloss:2.81653\tvalidation_1-mlogloss:3.5022\n",
      "[416]\tvalidation_0-mlogloss:2.81542\tvalidation_1-mlogloss:3.50215\n",
      "[417]\tvalidation_0-mlogloss:2.8142\tvalidation_1-mlogloss:3.50208\n",
      "[418]\tvalidation_0-mlogloss:2.81308\tvalidation_1-mlogloss:3.5019\n",
      "[419]\tvalidation_0-mlogloss:2.81199\tvalidation_1-mlogloss:3.50171\n",
      "[420]\tvalidation_0-mlogloss:2.81092\tvalidation_1-mlogloss:3.50182\n",
      "[421]\tvalidation_0-mlogloss:2.80979\tvalidation_1-mlogloss:3.50176\n",
      "[422]\tvalidation_0-mlogloss:2.80867\tvalidation_1-mlogloss:3.50177\n",
      "[423]\tvalidation_0-mlogloss:2.80754\tvalidation_1-mlogloss:3.5017\n",
      "[424]\tvalidation_0-mlogloss:2.80642\tvalidation_1-mlogloss:3.50165\n",
      "[425]\tvalidation_0-mlogloss:2.80522\tvalidation_1-mlogloss:3.50167\n",
      "[426]\tvalidation_0-mlogloss:2.80404\tvalidation_1-mlogloss:3.50159\n",
      "[427]\tvalidation_0-mlogloss:2.80292\tvalidation_1-mlogloss:3.50159\n",
      "[428]\tvalidation_0-mlogloss:2.80173\tvalidation_1-mlogloss:3.50137\n",
      "[429]\tvalidation_0-mlogloss:2.8007\tvalidation_1-mlogloss:3.50139\n",
      "[430]\tvalidation_0-mlogloss:2.79963\tvalidation_1-mlogloss:3.50134\n",
      "[431]\tvalidation_0-mlogloss:2.7985\tvalidation_1-mlogloss:3.50134\n",
      "[432]\tvalidation_0-mlogloss:2.79736\tvalidation_1-mlogloss:3.50122\n",
      "[433]\tvalidation_0-mlogloss:2.79617\tvalidation_1-mlogloss:3.50115\n",
      "[434]\tvalidation_0-mlogloss:2.79503\tvalidation_1-mlogloss:3.50104\n",
      "[435]\tvalidation_0-mlogloss:2.79399\tvalidation_1-mlogloss:3.50088\n",
      "[436]\tvalidation_0-mlogloss:2.79294\tvalidation_1-mlogloss:3.50094\n",
      "[437]\tvalidation_0-mlogloss:2.79194\tvalidation_1-mlogloss:3.50095\n",
      "[438]\tvalidation_0-mlogloss:2.79077\tvalidation_1-mlogloss:3.50085\n",
      "[439]\tvalidation_0-mlogloss:2.78971\tvalidation_1-mlogloss:3.50072\n",
      "[440]\tvalidation_0-mlogloss:2.78863\tvalidation_1-mlogloss:3.50063\n",
      "[441]\tvalidation_0-mlogloss:2.78753\tvalidation_1-mlogloss:3.50057\n",
      "[442]\tvalidation_0-mlogloss:2.78647\tvalidation_1-mlogloss:3.50047\n",
      "[443]\tvalidation_0-mlogloss:2.7853\tvalidation_1-mlogloss:3.50042\n",
      "[444]\tvalidation_0-mlogloss:2.78419\tvalidation_1-mlogloss:3.50025\n",
      "[445]\tvalidation_0-mlogloss:2.7831\tvalidation_1-mlogloss:3.50012\n",
      "[446]\tvalidation_0-mlogloss:2.782\tvalidation_1-mlogloss:3.50024\n",
      "[447]\tvalidation_0-mlogloss:2.78097\tvalidation_1-mlogloss:3.50023\n",
      "[448]\tvalidation_0-mlogloss:2.77986\tvalidation_1-mlogloss:3.50016\n",
      "[449]\tvalidation_0-mlogloss:2.7787\tvalidation_1-mlogloss:3.49998\n",
      "[450]\tvalidation_0-mlogloss:2.77757\tvalidation_1-mlogloss:3.49984\n",
      "[451]\tvalidation_0-mlogloss:2.77655\tvalidation_1-mlogloss:3.49984\n",
      "[452]\tvalidation_0-mlogloss:2.77539\tvalidation_1-mlogloss:3.4998\n",
      "[453]\tvalidation_0-mlogloss:2.77429\tvalidation_1-mlogloss:3.49983\n",
      "[454]\tvalidation_0-mlogloss:2.77331\tvalidation_1-mlogloss:3.49972\n",
      "[455]\tvalidation_0-mlogloss:2.77231\tvalidation_1-mlogloss:3.49982\n",
      "[456]\tvalidation_0-mlogloss:2.77126\tvalidation_1-mlogloss:3.49965\n",
      "[457]\tvalidation_0-mlogloss:2.77021\tvalidation_1-mlogloss:3.49956\n",
      "[458]\tvalidation_0-mlogloss:2.76924\tvalidation_1-mlogloss:3.49946\n",
      "[459]\tvalidation_0-mlogloss:2.76817\tvalidation_1-mlogloss:3.49926\n",
      "[460]\tvalidation_0-mlogloss:2.7672\tvalidation_1-mlogloss:3.49918\n",
      "[461]\tvalidation_0-mlogloss:2.76616\tvalidation_1-mlogloss:3.49912\n",
      "[462]\tvalidation_0-mlogloss:2.76519\tvalidation_1-mlogloss:3.49901\n",
      "[463]\tvalidation_0-mlogloss:2.76409\tvalidation_1-mlogloss:3.49877\n",
      "[464]\tvalidation_0-mlogloss:2.76292\tvalidation_1-mlogloss:3.49877\n",
      "[465]\tvalidation_0-mlogloss:2.76183\tvalidation_1-mlogloss:3.49873\n",
      "[466]\tvalidation_0-mlogloss:2.76076\tvalidation_1-mlogloss:3.49851\n",
      "[467]\tvalidation_0-mlogloss:2.75972\tvalidation_1-mlogloss:3.49862\n",
      "[468]\tvalidation_0-mlogloss:2.75862\tvalidation_1-mlogloss:3.49846\n",
      "[469]\tvalidation_0-mlogloss:2.75755\tvalidation_1-mlogloss:3.4984\n",
      "[470]\tvalidation_0-mlogloss:2.75643\tvalidation_1-mlogloss:3.49838\n",
      "[471]\tvalidation_0-mlogloss:2.75539\tvalidation_1-mlogloss:3.49833\n",
      "[472]\tvalidation_0-mlogloss:2.75435\tvalidation_1-mlogloss:3.49829\n",
      "[473]\tvalidation_0-mlogloss:2.75322\tvalidation_1-mlogloss:3.49813\n",
      "[474]\tvalidation_0-mlogloss:2.7522\tvalidation_1-mlogloss:3.49819\n",
      "[475]\tvalidation_0-mlogloss:2.75114\tvalidation_1-mlogloss:3.49828\n",
      "[476]\tvalidation_0-mlogloss:2.75012\tvalidation_1-mlogloss:3.49825\n",
      "[477]\tvalidation_0-mlogloss:2.74913\tvalidation_1-mlogloss:3.49811\n",
      "[478]\tvalidation_0-mlogloss:2.74804\tvalidation_1-mlogloss:3.49807\n",
      "[479]\tvalidation_0-mlogloss:2.74702\tvalidation_1-mlogloss:3.49809\n",
      "[480]\tvalidation_0-mlogloss:2.74599\tvalidation_1-mlogloss:3.498\n",
      "[481]\tvalidation_0-mlogloss:2.74491\tvalidation_1-mlogloss:3.49782\n",
      "[482]\tvalidation_0-mlogloss:2.74389\tvalidation_1-mlogloss:3.49774\n",
      "[483]\tvalidation_0-mlogloss:2.7428\tvalidation_1-mlogloss:3.49764\n",
      "[484]\tvalidation_0-mlogloss:2.74162\tvalidation_1-mlogloss:3.49754\n",
      "[485]\tvalidation_0-mlogloss:2.7406\tvalidation_1-mlogloss:3.49757\n",
      "[486]\tvalidation_0-mlogloss:2.73958\tvalidation_1-mlogloss:3.49746\n",
      "[487]\tvalidation_0-mlogloss:2.73855\tvalidation_1-mlogloss:3.49731\n",
      "[488]\tvalidation_0-mlogloss:2.73757\tvalidation_1-mlogloss:3.49724\n",
      "[489]\tvalidation_0-mlogloss:2.73654\tvalidation_1-mlogloss:3.49707\n",
      "[490]\tvalidation_0-mlogloss:2.73556\tvalidation_1-mlogloss:3.49702\n",
      "[491]\tvalidation_0-mlogloss:2.73462\tvalidation_1-mlogloss:3.49711\n",
      "[492]\tvalidation_0-mlogloss:2.73352\tvalidation_1-mlogloss:3.49691\n",
      "[493]\tvalidation_0-mlogloss:2.73249\tvalidation_1-mlogloss:3.49671\n",
      "[494]\tvalidation_0-mlogloss:2.7315\tvalidation_1-mlogloss:3.49658\n",
      "[495]\tvalidation_0-mlogloss:2.73055\tvalidation_1-mlogloss:3.49656\n",
      "[496]\tvalidation_0-mlogloss:2.7295\tvalidation_1-mlogloss:3.49631\n",
      "[497]\tvalidation_0-mlogloss:2.72856\tvalidation_1-mlogloss:3.49631\n",
      "[498]\tvalidation_0-mlogloss:2.72752\tvalidation_1-mlogloss:3.49619\n"
     ]
    },
    {
     "name": "stdout",
     "output_type": "stream",
     "text": [
      "[499]\tvalidation_0-mlogloss:2.72653\tvalidation_1-mlogloss:3.49616\n",
      "[500]\tvalidation_0-mlogloss:2.72554\tvalidation_1-mlogloss:3.49595\n",
      "[501]\tvalidation_0-mlogloss:2.72455\tvalidation_1-mlogloss:3.49603\n",
      "[502]\tvalidation_0-mlogloss:2.72355\tvalidation_1-mlogloss:3.49604\n",
      "[503]\tvalidation_0-mlogloss:2.72259\tvalidation_1-mlogloss:3.49605\n",
      "[504]\tvalidation_0-mlogloss:2.72165\tvalidation_1-mlogloss:3.49602\n",
      "[505]\tvalidation_0-mlogloss:2.72062\tvalidation_1-mlogloss:3.49598\n",
      "[506]\tvalidation_0-mlogloss:2.71963\tvalidation_1-mlogloss:3.49591\n",
      "[507]\tvalidation_0-mlogloss:2.71863\tvalidation_1-mlogloss:3.49588\n",
      "[508]\tvalidation_0-mlogloss:2.71759\tvalidation_1-mlogloss:3.4958\n",
      "[509]\tvalidation_0-mlogloss:2.71656\tvalidation_1-mlogloss:3.49576\n",
      "[510]\tvalidation_0-mlogloss:2.71562\tvalidation_1-mlogloss:3.49569\n",
      "[511]\tvalidation_0-mlogloss:2.71462\tvalidation_1-mlogloss:3.49546\n",
      "[512]\tvalidation_0-mlogloss:2.71367\tvalidation_1-mlogloss:3.49557\n",
      "[513]\tvalidation_0-mlogloss:2.71255\tvalidation_1-mlogloss:3.49565\n",
      "[514]\tvalidation_0-mlogloss:2.71161\tvalidation_1-mlogloss:3.49558\n",
      "[515]\tvalidation_0-mlogloss:2.71061\tvalidation_1-mlogloss:3.49562\n",
      "[516]\tvalidation_0-mlogloss:2.70964\tvalidation_1-mlogloss:3.49562\n",
      "[517]\tvalidation_0-mlogloss:2.7087\tvalidation_1-mlogloss:3.49568\n",
      "[518]\tvalidation_0-mlogloss:2.70774\tvalidation_1-mlogloss:3.4956\n",
      "[519]\tvalidation_0-mlogloss:2.70681\tvalidation_1-mlogloss:3.49538\n",
      "[520]\tvalidation_0-mlogloss:2.70579\tvalidation_1-mlogloss:3.49526\n",
      "[521]\tvalidation_0-mlogloss:2.70488\tvalidation_1-mlogloss:3.49537\n",
      "[522]\tvalidation_0-mlogloss:2.70388\tvalidation_1-mlogloss:3.49534\n",
      "[523]\tvalidation_0-mlogloss:2.7029\tvalidation_1-mlogloss:3.49523\n",
      "[524]\tvalidation_0-mlogloss:2.70196\tvalidation_1-mlogloss:3.49513\n",
      "[525]\tvalidation_0-mlogloss:2.70107\tvalidation_1-mlogloss:3.49506\n",
      "[526]\tvalidation_0-mlogloss:2.70006\tvalidation_1-mlogloss:3.49511\n",
      "[527]\tvalidation_0-mlogloss:2.69905\tvalidation_1-mlogloss:3.49506\n",
      "[528]\tvalidation_0-mlogloss:2.69804\tvalidation_1-mlogloss:3.49507\n",
      "[529]\tvalidation_0-mlogloss:2.69705\tvalidation_1-mlogloss:3.49507\n",
      "[530]\tvalidation_0-mlogloss:2.69611\tvalidation_1-mlogloss:3.49484\n",
      "[531]\tvalidation_0-mlogloss:2.69515\tvalidation_1-mlogloss:3.49474\n",
      "[532]\tvalidation_0-mlogloss:2.6942\tvalidation_1-mlogloss:3.49466\n",
      "[533]\tvalidation_0-mlogloss:2.69321\tvalidation_1-mlogloss:3.49459\n",
      "[534]\tvalidation_0-mlogloss:2.69208\tvalidation_1-mlogloss:3.49449\n",
      "[535]\tvalidation_0-mlogloss:2.69111\tvalidation_1-mlogloss:3.4945\n",
      "[536]\tvalidation_0-mlogloss:2.69005\tvalidation_1-mlogloss:3.49442\n",
      "[537]\tvalidation_0-mlogloss:2.68903\tvalidation_1-mlogloss:3.49453\n",
      "[538]\tvalidation_0-mlogloss:2.68809\tvalidation_1-mlogloss:3.49439\n",
      "[539]\tvalidation_0-mlogloss:2.6871\tvalidation_1-mlogloss:3.49428\n",
      "[540]\tvalidation_0-mlogloss:2.68623\tvalidation_1-mlogloss:3.49422\n",
      "[541]\tvalidation_0-mlogloss:2.68527\tvalidation_1-mlogloss:3.49414\n",
      "[542]\tvalidation_0-mlogloss:2.68426\tvalidation_1-mlogloss:3.49411\n",
      "[543]\tvalidation_0-mlogloss:2.68326\tvalidation_1-mlogloss:3.49412\n",
      "[544]\tvalidation_0-mlogloss:2.68224\tvalidation_1-mlogloss:3.49419\n",
      "[545]\tvalidation_0-mlogloss:2.68119\tvalidation_1-mlogloss:3.49418\n",
      "[546]\tvalidation_0-mlogloss:2.68018\tvalidation_1-mlogloss:3.49422\n",
      "[547]\tvalidation_0-mlogloss:2.67922\tvalidation_1-mlogloss:3.49411\n",
      "[548]\tvalidation_0-mlogloss:2.6783\tvalidation_1-mlogloss:3.49417\n",
      "[549]\tvalidation_0-mlogloss:2.67733\tvalidation_1-mlogloss:3.49424\n",
      "[550]\tvalidation_0-mlogloss:2.67633\tvalidation_1-mlogloss:3.4941\n",
      "[551]\tvalidation_0-mlogloss:2.67534\tvalidation_1-mlogloss:3.49416\n",
      "[552]\tvalidation_0-mlogloss:2.67443\tvalidation_1-mlogloss:3.49397\n",
      "[553]\tvalidation_0-mlogloss:2.67343\tvalidation_1-mlogloss:3.49395\n",
      "[554]\tvalidation_0-mlogloss:2.67238\tvalidation_1-mlogloss:3.49394\n",
      "[555]\tvalidation_0-mlogloss:2.67142\tvalidation_1-mlogloss:3.49393\n",
      "[556]\tvalidation_0-mlogloss:2.67055\tvalidation_1-mlogloss:3.49384\n",
      "[557]\tvalidation_0-mlogloss:2.66967\tvalidation_1-mlogloss:3.49373\n",
      "[558]\tvalidation_0-mlogloss:2.66876\tvalidation_1-mlogloss:3.49381\n",
      "[559]\tvalidation_0-mlogloss:2.66783\tvalidation_1-mlogloss:3.4938\n",
      "[560]\tvalidation_0-mlogloss:2.66689\tvalidation_1-mlogloss:3.49376\n",
      "[561]\tvalidation_0-mlogloss:2.66592\tvalidation_1-mlogloss:3.49365\n",
      "[562]\tvalidation_0-mlogloss:2.66504\tvalidation_1-mlogloss:3.49353\n",
      "[563]\tvalidation_0-mlogloss:2.66412\tvalidation_1-mlogloss:3.49343\n",
      "[564]\tvalidation_0-mlogloss:2.66319\tvalidation_1-mlogloss:3.49339\n",
      "[565]\tvalidation_0-mlogloss:2.66221\tvalidation_1-mlogloss:3.49334\n",
      "[566]\tvalidation_0-mlogloss:2.66129\tvalidation_1-mlogloss:3.49352\n",
      "[567]\tvalidation_0-mlogloss:2.66022\tvalidation_1-mlogloss:3.49337\n",
      "[568]\tvalidation_0-mlogloss:2.65933\tvalidation_1-mlogloss:3.49325\n",
      "[569]\tvalidation_0-mlogloss:2.65836\tvalidation_1-mlogloss:3.49325\n",
      "[570]\tvalidation_0-mlogloss:2.65747\tvalidation_1-mlogloss:3.49326\n",
      "[571]\tvalidation_0-mlogloss:2.65652\tvalidation_1-mlogloss:3.49309\n",
      "[572]\tvalidation_0-mlogloss:2.65556\tvalidation_1-mlogloss:3.49324\n",
      "[573]\tvalidation_0-mlogloss:2.65462\tvalidation_1-mlogloss:3.49318\n",
      "[574]\tvalidation_0-mlogloss:2.65371\tvalidation_1-mlogloss:3.49325\n",
      "[575]\tvalidation_0-mlogloss:2.65283\tvalidation_1-mlogloss:3.49324\n",
      "[576]\tvalidation_0-mlogloss:2.65194\tvalidation_1-mlogloss:3.4933\n",
      "[577]\tvalidation_0-mlogloss:2.65104\tvalidation_1-mlogloss:3.49318\n",
      "[578]\tvalidation_0-mlogloss:2.65016\tvalidation_1-mlogloss:3.49301\n",
      "[579]\tvalidation_0-mlogloss:2.64921\tvalidation_1-mlogloss:3.49294\n",
      "[580]\tvalidation_0-mlogloss:2.64838\tvalidation_1-mlogloss:3.49298\n",
      "[581]\tvalidation_0-mlogloss:2.64744\tvalidation_1-mlogloss:3.49296\n",
      "[582]\tvalidation_0-mlogloss:2.64655\tvalidation_1-mlogloss:3.49295\n",
      "[583]\tvalidation_0-mlogloss:2.64564\tvalidation_1-mlogloss:3.4929\n",
      "[584]\tvalidation_0-mlogloss:2.64475\tvalidation_1-mlogloss:3.49298\n",
      "[585]\tvalidation_0-mlogloss:2.64383\tvalidation_1-mlogloss:3.49275\n",
      "[586]\tvalidation_0-mlogloss:2.6429\tvalidation_1-mlogloss:3.49271\n",
      "[587]\tvalidation_0-mlogloss:2.64196\tvalidation_1-mlogloss:3.49288\n",
      "[588]\tvalidation_0-mlogloss:2.64096\tvalidation_1-mlogloss:3.49275\n",
      "[589]\tvalidation_0-mlogloss:2.63999\tvalidation_1-mlogloss:3.49274\n",
      "[590]\tvalidation_0-mlogloss:2.6391\tvalidation_1-mlogloss:3.49266\n",
      "[591]\tvalidation_0-mlogloss:2.63804\tvalidation_1-mlogloss:3.49258\n",
      "[592]\tvalidation_0-mlogloss:2.63701\tvalidation_1-mlogloss:3.49266\n",
      "[593]\tvalidation_0-mlogloss:2.6361\tvalidation_1-mlogloss:3.49272\n",
      "[594]\tvalidation_0-mlogloss:2.63519\tvalidation_1-mlogloss:3.49268\n",
      "[595]\tvalidation_0-mlogloss:2.63434\tvalidation_1-mlogloss:3.49275\n",
      "[596]\tvalidation_0-mlogloss:2.63343\tvalidation_1-mlogloss:3.49277\n",
      "[597]\tvalidation_0-mlogloss:2.63247\tvalidation_1-mlogloss:3.49269\n",
      "[598]\tvalidation_0-mlogloss:2.63156\tvalidation_1-mlogloss:3.4926\n",
      "[599]\tvalidation_0-mlogloss:2.63064\tvalidation_1-mlogloss:3.49261\n",
      "[600]\tvalidation_0-mlogloss:2.62968\tvalidation_1-mlogloss:3.49256\n",
      "[601]\tvalidation_0-mlogloss:2.62869\tvalidation_1-mlogloss:3.49245\n",
      "[602]\tvalidation_0-mlogloss:2.62778\tvalidation_1-mlogloss:3.49235\n",
      "[603]\tvalidation_0-mlogloss:2.62681\tvalidation_1-mlogloss:3.49228\n",
      "[604]\tvalidation_0-mlogloss:2.62584\tvalidation_1-mlogloss:3.49213\n",
      "[605]\tvalidation_0-mlogloss:2.62493\tvalidation_1-mlogloss:3.4922\n",
      "[606]\tvalidation_0-mlogloss:2.62411\tvalidation_1-mlogloss:3.49219\n",
      "[607]\tvalidation_0-mlogloss:2.62325\tvalidation_1-mlogloss:3.4921\n",
      "[608]\tvalidation_0-mlogloss:2.62233\tvalidation_1-mlogloss:3.49201\n",
      "[609]\tvalidation_0-mlogloss:2.62151\tvalidation_1-mlogloss:3.49197\n",
      "[610]\tvalidation_0-mlogloss:2.62062\tvalidation_1-mlogloss:3.49203\n",
      "[611]\tvalidation_0-mlogloss:2.61977\tvalidation_1-mlogloss:3.49202\n",
      "[612]\tvalidation_0-mlogloss:2.619\tvalidation_1-mlogloss:3.49206\n",
      "[613]\tvalidation_0-mlogloss:2.6181\tvalidation_1-mlogloss:3.49205\n",
      "[614]\tvalidation_0-mlogloss:2.61715\tvalidation_1-mlogloss:3.49197\n",
      "[615]\tvalidation_0-mlogloss:2.61632\tvalidation_1-mlogloss:3.4919\n",
      "[616]\tvalidation_0-mlogloss:2.61546\tvalidation_1-mlogloss:3.49192\n",
      "[617]\tvalidation_0-mlogloss:2.61457\tvalidation_1-mlogloss:3.49178\n",
      "[618]\tvalidation_0-mlogloss:2.61371\tvalidation_1-mlogloss:3.49172\n",
      "[619]\tvalidation_0-mlogloss:2.61281\tvalidation_1-mlogloss:3.4918\n",
      "[620]\tvalidation_0-mlogloss:2.61198\tvalidation_1-mlogloss:3.49188\n",
      "[621]\tvalidation_0-mlogloss:2.61112\tvalidation_1-mlogloss:3.49179\n",
      "[622]\tvalidation_0-mlogloss:2.61022\tvalidation_1-mlogloss:3.49178\n",
      "[623]\tvalidation_0-mlogloss:2.60932\tvalidation_1-mlogloss:3.49175\n"
     ]
    },
    {
     "name": "stdout",
     "output_type": "stream",
     "text": [
      "[624]\tvalidation_0-mlogloss:2.60845\tvalidation_1-mlogloss:3.49161\n",
      "[625]\tvalidation_0-mlogloss:2.60754\tvalidation_1-mlogloss:3.49162\n",
      "[626]\tvalidation_0-mlogloss:2.60663\tvalidation_1-mlogloss:3.49166\n",
      "[627]\tvalidation_0-mlogloss:2.60581\tvalidation_1-mlogloss:3.49165\n",
      "[628]\tvalidation_0-mlogloss:2.60493\tvalidation_1-mlogloss:3.49151\n",
      "[629]\tvalidation_0-mlogloss:2.60408\tvalidation_1-mlogloss:3.49147\n",
      "[630]\tvalidation_0-mlogloss:2.60316\tvalidation_1-mlogloss:3.49145\n",
      "[631]\tvalidation_0-mlogloss:2.60232\tvalidation_1-mlogloss:3.49142\n",
      "[632]\tvalidation_0-mlogloss:2.60142\tvalidation_1-mlogloss:3.49146\n",
      "[633]\tvalidation_0-mlogloss:2.6005\tvalidation_1-mlogloss:3.49141\n",
      "[634]\tvalidation_0-mlogloss:2.59962\tvalidation_1-mlogloss:3.49126\n",
      "[635]\tvalidation_0-mlogloss:2.5987\tvalidation_1-mlogloss:3.49123\n",
      "[636]\tvalidation_0-mlogloss:2.59779\tvalidation_1-mlogloss:3.49128\n",
      "[637]\tvalidation_0-mlogloss:2.59688\tvalidation_1-mlogloss:3.49135\n",
      "[638]\tvalidation_0-mlogloss:2.59599\tvalidation_1-mlogloss:3.49144\n",
      "[639]\tvalidation_0-mlogloss:2.59514\tvalidation_1-mlogloss:3.49155\n",
      "[640]\tvalidation_0-mlogloss:2.59423\tvalidation_1-mlogloss:3.49146\n",
      "[641]\tvalidation_0-mlogloss:2.59336\tvalidation_1-mlogloss:3.49158\n",
      "[642]\tvalidation_0-mlogloss:2.59254\tvalidation_1-mlogloss:3.49163\n",
      "[643]\tvalidation_0-mlogloss:2.59166\tvalidation_1-mlogloss:3.49158\n",
      "[644]\tvalidation_0-mlogloss:2.5908\tvalidation_1-mlogloss:3.49152\n",
      "[645]\tvalidation_0-mlogloss:2.58982\tvalidation_1-mlogloss:3.4914\n",
      "[646]\tvalidation_0-mlogloss:2.58884\tvalidation_1-mlogloss:3.49131\n",
      "[647]\tvalidation_0-mlogloss:2.58799\tvalidation_1-mlogloss:3.4913\n",
      "[648]\tvalidation_0-mlogloss:2.58716\tvalidation_1-mlogloss:3.49119\n",
      "[649]\tvalidation_0-mlogloss:2.58631\tvalidation_1-mlogloss:3.49092\n",
      "[650]\tvalidation_0-mlogloss:2.5854\tvalidation_1-mlogloss:3.4908\n",
      "[651]\tvalidation_0-mlogloss:2.58456\tvalidation_1-mlogloss:3.49073\n",
      "[652]\tvalidation_0-mlogloss:2.58384\tvalidation_1-mlogloss:3.49063\n",
      "[653]\tvalidation_0-mlogloss:2.58302\tvalidation_1-mlogloss:3.49076\n",
      "[654]\tvalidation_0-mlogloss:2.58224\tvalidation_1-mlogloss:3.49076\n",
      "[655]\tvalidation_0-mlogloss:2.58139\tvalidation_1-mlogloss:3.49075\n",
      "[656]\tvalidation_0-mlogloss:2.58051\tvalidation_1-mlogloss:3.49084\n",
      "[657]\tvalidation_0-mlogloss:2.57968\tvalidation_1-mlogloss:3.49076\n",
      "[658]\tvalidation_0-mlogloss:2.57883\tvalidation_1-mlogloss:3.49082\n",
      "[659]\tvalidation_0-mlogloss:2.57796\tvalidation_1-mlogloss:3.49087\n",
      "[660]\tvalidation_0-mlogloss:2.57708\tvalidation_1-mlogloss:3.49087\n",
      "[661]\tvalidation_0-mlogloss:2.57625\tvalidation_1-mlogloss:3.49084\n",
      "[662]\tvalidation_0-mlogloss:2.57529\tvalidation_1-mlogloss:3.49076\n",
      "[663]\tvalidation_0-mlogloss:2.57445\tvalidation_1-mlogloss:3.49077\n",
      "[664]\tvalidation_0-mlogloss:2.57358\tvalidation_1-mlogloss:3.49078\n",
      "[665]\tvalidation_0-mlogloss:2.57265\tvalidation_1-mlogloss:3.49074\n",
      "[666]\tvalidation_0-mlogloss:2.57173\tvalidation_1-mlogloss:3.49051\n",
      "[667]\tvalidation_0-mlogloss:2.57088\tvalidation_1-mlogloss:3.49052\n",
      "[668]\tvalidation_0-mlogloss:2.57004\tvalidation_1-mlogloss:3.49049\n",
      "[669]\tvalidation_0-mlogloss:2.56919\tvalidation_1-mlogloss:3.49042\n",
      "[670]\tvalidation_0-mlogloss:2.56835\tvalidation_1-mlogloss:3.49018\n",
      "[671]\tvalidation_0-mlogloss:2.56749\tvalidation_1-mlogloss:3.49013\n",
      "[672]\tvalidation_0-mlogloss:2.56661\tvalidation_1-mlogloss:3.49017\n",
      "[673]\tvalidation_0-mlogloss:2.56576\tvalidation_1-mlogloss:3.49002\n",
      "[674]\tvalidation_0-mlogloss:2.56495\tvalidation_1-mlogloss:3.49001\n",
      "[675]\tvalidation_0-mlogloss:2.56414\tvalidation_1-mlogloss:3.49004\n",
      "[676]\tvalidation_0-mlogloss:2.56334\tvalidation_1-mlogloss:3.48993\n",
      "[677]\tvalidation_0-mlogloss:2.56246\tvalidation_1-mlogloss:3.48991\n",
      "[678]\tvalidation_0-mlogloss:2.56161\tvalidation_1-mlogloss:3.48992\n",
      "[679]\tvalidation_0-mlogloss:2.56087\tvalidation_1-mlogloss:3.48998\n",
      "[680]\tvalidation_0-mlogloss:2.56003\tvalidation_1-mlogloss:3.49008\n",
      "[681]\tvalidation_0-mlogloss:2.55913\tvalidation_1-mlogloss:3.48998\n",
      "[682]\tvalidation_0-mlogloss:2.55825\tvalidation_1-mlogloss:3.48985\n",
      "[683]\tvalidation_0-mlogloss:2.5574\tvalidation_1-mlogloss:3.48989\n",
      "[684]\tvalidation_0-mlogloss:2.55659\tvalidation_1-mlogloss:3.48981\n",
      "[685]\tvalidation_0-mlogloss:2.55572\tvalidation_1-mlogloss:3.48963\n",
      "[686]\tvalidation_0-mlogloss:2.55486\tvalidation_1-mlogloss:3.48966\n",
      "[687]\tvalidation_0-mlogloss:2.55396\tvalidation_1-mlogloss:3.48965\n",
      "[688]\tvalidation_0-mlogloss:2.55311\tvalidation_1-mlogloss:3.48971\n",
      "[689]\tvalidation_0-mlogloss:2.55222\tvalidation_1-mlogloss:3.48956\n",
      "[690]\tvalidation_0-mlogloss:2.55133\tvalidation_1-mlogloss:3.48953\n",
      "[691]\tvalidation_0-mlogloss:2.55036\tvalidation_1-mlogloss:3.48961\n",
      "[692]\tvalidation_0-mlogloss:2.54945\tvalidation_1-mlogloss:3.48966\n",
      "[693]\tvalidation_0-mlogloss:2.54865\tvalidation_1-mlogloss:3.48962\n",
      "[694]\tvalidation_0-mlogloss:2.54789\tvalidation_1-mlogloss:3.48964\n",
      "[695]\tvalidation_0-mlogloss:2.54708\tvalidation_1-mlogloss:3.48945\n",
      "[696]\tvalidation_0-mlogloss:2.54628\tvalidation_1-mlogloss:3.48959\n",
      "[697]\tvalidation_0-mlogloss:2.54549\tvalidation_1-mlogloss:3.48948\n",
      "[698]\tvalidation_0-mlogloss:2.54469\tvalidation_1-mlogloss:3.48948\n",
      "[699]\tvalidation_0-mlogloss:2.54385\tvalidation_1-mlogloss:3.48951\n",
      "[700]\tvalidation_0-mlogloss:2.54304\tvalidation_1-mlogloss:3.48952\n",
      "[701]\tvalidation_0-mlogloss:2.5422\tvalidation_1-mlogloss:3.48962\n",
      "[702]\tvalidation_0-mlogloss:2.54138\tvalidation_1-mlogloss:3.48948\n",
      "[703]\tvalidation_0-mlogloss:2.54047\tvalidation_1-mlogloss:3.48949\n",
      "[704]\tvalidation_0-mlogloss:2.53962\tvalidation_1-mlogloss:3.48949\n",
      "[705]\tvalidation_0-mlogloss:2.53882\tvalidation_1-mlogloss:3.4896\n",
      "[706]\tvalidation_0-mlogloss:2.53805\tvalidation_1-mlogloss:3.48962\n",
      "[707]\tvalidation_0-mlogloss:2.53722\tvalidation_1-mlogloss:3.4897\n",
      "[708]\tvalidation_0-mlogloss:2.53637\tvalidation_1-mlogloss:3.48966\n",
      "[709]\tvalidation_0-mlogloss:2.53551\tvalidation_1-mlogloss:3.48941\n",
      "[710]\tvalidation_0-mlogloss:2.53458\tvalidation_1-mlogloss:3.48939\n",
      "[711]\tvalidation_0-mlogloss:2.53374\tvalidation_1-mlogloss:3.48931\n",
      "[712]\tvalidation_0-mlogloss:2.53291\tvalidation_1-mlogloss:3.48934\n",
      "[713]\tvalidation_0-mlogloss:2.53203\tvalidation_1-mlogloss:3.4894\n",
      "[714]\tvalidation_0-mlogloss:2.53126\tvalidation_1-mlogloss:3.48949\n",
      "[715]\tvalidation_0-mlogloss:2.53042\tvalidation_1-mlogloss:3.48947\n",
      "[716]\tvalidation_0-mlogloss:2.52961\tvalidation_1-mlogloss:3.48951\n",
      "[717]\tvalidation_0-mlogloss:2.52877\tvalidation_1-mlogloss:3.48949\n",
      "[718]\tvalidation_0-mlogloss:2.52793\tvalidation_1-mlogloss:3.48942\n",
      "[719]\tvalidation_0-mlogloss:2.52713\tvalidation_1-mlogloss:3.48946\n",
      "[720]\tvalidation_0-mlogloss:2.52637\tvalidation_1-mlogloss:3.48941\n",
      "[721]\tvalidation_0-mlogloss:2.52565\tvalidation_1-mlogloss:3.48947\n",
      "[722]\tvalidation_0-mlogloss:2.52484\tvalidation_1-mlogloss:3.48952\n",
      "[723]\tvalidation_0-mlogloss:2.524\tvalidation_1-mlogloss:3.48948\n",
      "[724]\tvalidation_0-mlogloss:2.52318\tvalidation_1-mlogloss:3.48924\n",
      "[725]\tvalidation_0-mlogloss:2.52236\tvalidation_1-mlogloss:3.48931\n",
      "[726]\tvalidation_0-mlogloss:2.52156\tvalidation_1-mlogloss:3.48924\n",
      "[727]\tvalidation_0-mlogloss:2.52067\tvalidation_1-mlogloss:3.48915\n",
      "[728]\tvalidation_0-mlogloss:2.51986\tvalidation_1-mlogloss:3.48929\n",
      "[729]\tvalidation_0-mlogloss:2.51901\tvalidation_1-mlogloss:3.4893\n",
      "[730]\tvalidation_0-mlogloss:2.51828\tvalidation_1-mlogloss:3.48922\n",
      "[731]\tvalidation_0-mlogloss:2.51739\tvalidation_1-mlogloss:3.48924\n",
      "[732]\tvalidation_0-mlogloss:2.51659\tvalidation_1-mlogloss:3.48919\n",
      "[733]\tvalidation_0-mlogloss:2.51578\tvalidation_1-mlogloss:3.48907\n",
      "[734]\tvalidation_0-mlogloss:2.515\tvalidation_1-mlogloss:3.48906\n",
      "[735]\tvalidation_0-mlogloss:2.51419\tvalidation_1-mlogloss:3.4891\n",
      "[736]\tvalidation_0-mlogloss:2.51341\tvalidation_1-mlogloss:3.48893\n",
      "[737]\tvalidation_0-mlogloss:2.5126\tvalidation_1-mlogloss:3.48889\n",
      "[738]\tvalidation_0-mlogloss:2.51181\tvalidation_1-mlogloss:3.48882\n",
      "[739]\tvalidation_0-mlogloss:2.51101\tvalidation_1-mlogloss:3.4888\n",
      "[740]\tvalidation_0-mlogloss:2.5102\tvalidation_1-mlogloss:3.48883\n",
      "[741]\tvalidation_0-mlogloss:2.50937\tvalidation_1-mlogloss:3.48876\n",
      "[742]\tvalidation_0-mlogloss:2.50854\tvalidation_1-mlogloss:3.48872\n",
      "[743]\tvalidation_0-mlogloss:2.50774\tvalidation_1-mlogloss:3.48885\n",
      "[744]\tvalidation_0-mlogloss:2.50698\tvalidation_1-mlogloss:3.48872\n",
      "[745]\tvalidation_0-mlogloss:2.50622\tvalidation_1-mlogloss:3.48888\n",
      "[746]\tvalidation_0-mlogloss:2.50543\tvalidation_1-mlogloss:3.489\n",
      "[747]\tvalidation_0-mlogloss:2.50464\tvalidation_1-mlogloss:3.48908\n",
      "[748]\tvalidation_0-mlogloss:2.50385\tvalidation_1-mlogloss:3.48915\n"
     ]
    },
    {
     "name": "stdout",
     "output_type": "stream",
     "text": [
      "[749]\tvalidation_0-mlogloss:2.50308\tvalidation_1-mlogloss:3.48908\n",
      "[750]\tvalidation_0-mlogloss:2.50228\tvalidation_1-mlogloss:3.48913\n",
      "[751]\tvalidation_0-mlogloss:2.50152\tvalidation_1-mlogloss:3.4892\n",
      "[752]\tvalidation_0-mlogloss:2.50067\tvalidation_1-mlogloss:3.48915\n",
      "[753]\tvalidation_0-mlogloss:2.4999\tvalidation_1-mlogloss:3.48914\n",
      "[754]\tvalidation_0-mlogloss:2.4991\tvalidation_1-mlogloss:3.48913\n",
      "[755]\tvalidation_0-mlogloss:2.49824\tvalidation_1-mlogloss:3.48912\n",
      "[756]\tvalidation_0-mlogloss:2.49743\tvalidation_1-mlogloss:3.48916\n",
      "[757]\tvalidation_0-mlogloss:2.49666\tvalidation_1-mlogloss:3.48902\n",
      "[758]\tvalidation_0-mlogloss:2.49594\tvalidation_1-mlogloss:3.48887\n",
      "[759]\tvalidation_0-mlogloss:2.49514\tvalidation_1-mlogloss:3.48891\n",
      "[760]\tvalidation_0-mlogloss:2.49442\tvalidation_1-mlogloss:3.48881\n",
      "[761]\tvalidation_0-mlogloss:2.49361\tvalidation_1-mlogloss:3.48883\n",
      "[762]\tvalidation_0-mlogloss:2.49287\tvalidation_1-mlogloss:3.48892\n",
      "[763]\tvalidation_0-mlogloss:2.4921\tvalidation_1-mlogloss:3.48891\n",
      "[764]\tvalidation_0-mlogloss:2.49131\tvalidation_1-mlogloss:3.48882\n",
      "[765]\tvalidation_0-mlogloss:2.49048\tvalidation_1-mlogloss:3.48877\n",
      "[766]\tvalidation_0-mlogloss:2.48962\tvalidation_1-mlogloss:3.48873\n",
      "[767]\tvalidation_0-mlogloss:2.48884\tvalidation_1-mlogloss:3.48883\n",
      "[768]\tvalidation_0-mlogloss:2.4881\tvalidation_1-mlogloss:3.48894\n",
      "[769]\tvalidation_0-mlogloss:2.48735\tvalidation_1-mlogloss:3.48893\n",
      "[770]\tvalidation_0-mlogloss:2.48655\tvalidation_1-mlogloss:3.48899\n",
      "[771]\tvalidation_0-mlogloss:2.48572\tvalidation_1-mlogloss:3.48904\n",
      "[772]\tvalidation_0-mlogloss:2.48487\tvalidation_1-mlogloss:3.48899\n",
      "[773]\tvalidation_0-mlogloss:2.48408\tvalidation_1-mlogloss:3.48896\n",
      "[774]\tvalidation_0-mlogloss:2.48323\tvalidation_1-mlogloss:3.48897\n",
      "[775]\tvalidation_0-mlogloss:2.48251\tvalidation_1-mlogloss:3.48899\n",
      "[776]\tvalidation_0-mlogloss:2.48179\tvalidation_1-mlogloss:3.48907\n",
      "[777]\tvalidation_0-mlogloss:2.48106\tvalidation_1-mlogloss:3.48913\n",
      "[778]\tvalidation_0-mlogloss:2.48031\tvalidation_1-mlogloss:3.48926\n",
      "[779]\tvalidation_0-mlogloss:2.47951\tvalidation_1-mlogloss:3.48926\n",
      "[780]\tvalidation_0-mlogloss:2.47871\tvalidation_1-mlogloss:3.4892\n",
      "[781]\tvalidation_0-mlogloss:2.47791\tvalidation_1-mlogloss:3.48911\n",
      "[782]\tvalidation_0-mlogloss:2.47712\tvalidation_1-mlogloss:3.48897\n",
      "[783]\tvalidation_0-mlogloss:2.47639\tvalidation_1-mlogloss:3.48908\n",
      "[784]\tvalidation_0-mlogloss:2.47569\tvalidation_1-mlogloss:3.4891\n",
      "[785]\tvalidation_0-mlogloss:2.4749\tvalidation_1-mlogloss:3.48911\n",
      "[786]\tvalidation_0-mlogloss:2.4741\tvalidation_1-mlogloss:3.48913\n",
      "[787]\tvalidation_0-mlogloss:2.47328\tvalidation_1-mlogloss:3.48921\n",
      "[788]\tvalidation_0-mlogloss:2.47249\tvalidation_1-mlogloss:3.48916\n",
      "[789]\tvalidation_0-mlogloss:2.47181\tvalidation_1-mlogloss:3.48921\n",
      "[790]\tvalidation_0-mlogloss:2.471\tvalidation_1-mlogloss:3.48929\n",
      "[791]\tvalidation_0-mlogloss:2.47024\tvalidation_1-mlogloss:3.48917\n",
      "[792]\tvalidation_0-mlogloss:2.46947\tvalidation_1-mlogloss:3.48914\n",
      "[793]\tvalidation_0-mlogloss:2.46875\tvalidation_1-mlogloss:3.48921\n",
      "[794]\tvalidation_0-mlogloss:2.46799\tvalidation_1-mlogloss:3.48908\n",
      "[795]\tvalidation_0-mlogloss:2.46719\tvalidation_1-mlogloss:3.48913\n",
      "[796]\tvalidation_0-mlogloss:2.4664\tvalidation_1-mlogloss:3.48914\n",
      "[797]\tvalidation_0-mlogloss:2.46567\tvalidation_1-mlogloss:3.48914\n",
      "[798]\tvalidation_0-mlogloss:2.46496\tvalidation_1-mlogloss:3.48915\n",
      "[799]\tvalidation_0-mlogloss:2.46423\tvalidation_1-mlogloss:3.48906\n",
      "[800]\tvalidation_0-mlogloss:2.46346\tvalidation_1-mlogloss:3.4891\n",
      "[801]\tvalidation_0-mlogloss:2.46277\tvalidation_1-mlogloss:3.48919\n",
      "[802]\tvalidation_0-mlogloss:2.46207\tvalidation_1-mlogloss:3.48929\n",
      "[803]\tvalidation_0-mlogloss:2.46136\tvalidation_1-mlogloss:3.4893\n",
      "[804]\tvalidation_0-mlogloss:2.4606\tvalidation_1-mlogloss:3.48935\n",
      "[805]\tvalidation_0-mlogloss:2.45984\tvalidation_1-mlogloss:3.48947\n",
      "[806]\tvalidation_0-mlogloss:2.4591\tvalidation_1-mlogloss:3.48948\n",
      "[807]\tvalidation_0-mlogloss:2.45838\tvalidation_1-mlogloss:3.4896\n",
      "[808]\tvalidation_0-mlogloss:2.45767\tvalidation_1-mlogloss:3.48961\n",
      "[809]\tvalidation_0-mlogloss:2.4569\tvalidation_1-mlogloss:3.48969\n",
      "[810]\tvalidation_0-mlogloss:2.45619\tvalidation_1-mlogloss:3.48967\n",
      "[811]\tvalidation_0-mlogloss:2.45551\tvalidation_1-mlogloss:3.48976\n",
      "[812]\tvalidation_0-mlogloss:2.4548\tvalidation_1-mlogloss:3.48976\n",
      "[813]\tvalidation_0-mlogloss:2.45403\tvalidation_1-mlogloss:3.48983\n",
      "[814]\tvalidation_0-mlogloss:2.4533\tvalidation_1-mlogloss:3.48982\n",
      "[815]\tvalidation_0-mlogloss:2.45259\tvalidation_1-mlogloss:3.48988\n",
      "[816]\tvalidation_0-mlogloss:2.45185\tvalidation_1-mlogloss:3.48975\n",
      "[817]\tvalidation_0-mlogloss:2.45113\tvalidation_1-mlogloss:3.48983\n",
      "[818]\tvalidation_0-mlogloss:2.45033\tvalidation_1-mlogloss:3.48975\n",
      "[819]\tvalidation_0-mlogloss:2.4495\tvalidation_1-mlogloss:3.48987\n",
      "[820]\tvalidation_0-mlogloss:2.4487\tvalidation_1-mlogloss:3.48987\n",
      "[821]\tvalidation_0-mlogloss:2.44794\tvalidation_1-mlogloss:3.48999\n",
      "[822]\tvalidation_0-mlogloss:2.44715\tvalidation_1-mlogloss:3.49\n",
      "[823]\tvalidation_0-mlogloss:2.44639\tvalidation_1-mlogloss:3.49004\n",
      "[824]\tvalidation_0-mlogloss:2.44564\tvalidation_1-mlogloss:3.49012\n",
      "[825]\tvalidation_0-mlogloss:2.44491\tvalidation_1-mlogloss:3.49012\n",
      "[826]\tvalidation_0-mlogloss:2.44417\tvalidation_1-mlogloss:3.4901\n",
      "[827]\tvalidation_0-mlogloss:2.44354\tvalidation_1-mlogloss:3.4901\n",
      "[828]\tvalidation_0-mlogloss:2.44283\tvalidation_1-mlogloss:3.49001\n",
      "[829]\tvalidation_0-mlogloss:2.44207\tvalidation_1-mlogloss:3.49016\n",
      "[830]\tvalidation_0-mlogloss:2.44136\tvalidation_1-mlogloss:3.49022\n",
      "[831]\tvalidation_0-mlogloss:2.44059\tvalidation_1-mlogloss:3.49026\n",
      "[832]\tvalidation_0-mlogloss:2.43986\tvalidation_1-mlogloss:3.49025\n",
      "[833]\tvalidation_0-mlogloss:2.43909\tvalidation_1-mlogloss:3.49032\n",
      "[834]\tvalidation_0-mlogloss:2.43828\tvalidation_1-mlogloss:3.49036\n",
      "[835]\tvalidation_0-mlogloss:2.43752\tvalidation_1-mlogloss:3.49042\n",
      "[836]\tvalidation_0-mlogloss:2.4368\tvalidation_1-mlogloss:3.49041\n",
      "[837]\tvalidation_0-mlogloss:2.43603\tvalidation_1-mlogloss:3.49031\n",
      "[838]\tvalidation_0-mlogloss:2.43531\tvalidation_1-mlogloss:3.49032\n",
      "[839]\tvalidation_0-mlogloss:2.43456\tvalidation_1-mlogloss:3.49029\n",
      "[840]\tvalidation_0-mlogloss:2.43379\tvalidation_1-mlogloss:3.49032\n",
      "[841]\tvalidation_0-mlogloss:2.43304\tvalidation_1-mlogloss:3.49024\n",
      "[842]\tvalidation_0-mlogloss:2.4323\tvalidation_1-mlogloss:3.49023\n",
      "[843]\tvalidation_0-mlogloss:2.43161\tvalidation_1-mlogloss:3.4903\n",
      "[844]\tvalidation_0-mlogloss:2.43086\tvalidation_1-mlogloss:3.4903\n",
      "Stopping. Best iteration:\n",
      "[744]\tvalidation_0-mlogloss:2.50698\tvalidation_1-mlogloss:3.48872\n",
      "\n"
     ]
    },
    {
     "data": {
      "text/plain": [
       "XGBClassifier(base_score=0.5, booster='gbtree', colsample_bylevel=1,\n",
       "       colsample_bytree=1, gamma=0, learning_rate=0.1, max_delta_step=0,\n",
       "       max_depth=3, min_child_weight=1, missing=None, n_estimators=1000,\n",
       "       n_jobs=-1, nthread=None, objective='multi:softprob', random_state=0,\n",
       "       reg_alpha=0, reg_lambda=1, scale_pos_weight=1, seed=None,\n",
       "       silent=True, subsample=1)"
      ]
     },
     "execution_count": 26,
     "metadata": {},
     "output_type": "execute_result"
    }
   ],
   "source": [
    "model = xgb.XGBClassifier(n_estimators=1000, n_jobs=-1)\n",
    "model.fit(X_train[features], y_train,\n",
    "          early_stopping_rounds=100,\n",
    "          eval_set=[(X_train[features], y_train), (X_val[features], y_val)],\n",
    "          eval_metric='mlogloss',\n",
    "          verbose=True)"
   ]
  },
  {
   "cell_type": "code",
   "execution_count": 27,
   "metadata": {},
   "outputs": [],
   "source": [
    "preds_probability = model.predict_proba(X_test[features])\n",
    "preds = model.predict(X_test[features])"
   ]
  },
  {
   "cell_type": "code",
   "execution_count": 28,
   "metadata": {},
   "outputs": [],
   "source": [
    "results_df = pd.DataFrame(columns=model.classes_, data=preds_probability)"
   ]
  },
  {
   "cell_type": "code",
   "execution_count": 29,
   "metadata": {},
   "outputs": [
    {
     "name": "stdout",
     "output_type": "stream",
     "text": [
      "[[46 42 58 60 61]\n",
      " [26  0 73  4 21]\n",
      " [65 66 84 52 26]\n",
      " ...\n",
      " [29 46 81 61 30]\n",
      " [46 81 89 29 61]\n",
      " [46 85 29 64 36]]\n"
     ]
    }
   ],
   "source": [
    "sorted_probabilities = np.flip(results_df.values.argsort(),1)\n",
    "print(sorted_probabilities[:,:5])"
   ]
  },
  {
   "cell_type": "code",
   "execution_count": 30,
   "metadata": {},
   "outputs": [
    {
     "name": "stdout",
     "output_type": "stream",
     "text": [
      "Model Mean Absolute Precision:  0.22730716253443525\n"
     ]
    }
   ],
   "source": [
    "y_test = [[l] for l in t3['hotel_cluster']]\n",
    "score = mapk(y_test, sorted_probabilities, k=5)\n",
    "print('Model Mean Absolute Precision: ', score)"
   ]
  },
  {
   "cell_type": "code",
   "execution_count": 33,
   "metadata": {},
   "outputs": [],
   "source": [
    "model_dir = '../models/'\n",
    "model_name = 'V1_model.pkl'\n",
    "#--------------------------------------------------\n",
    "with open(model_dir+model_name, 'wb') as model_file:\n",
    "    pickle.dump(model, model_file)"
   ]
  },
  {
   "cell_type": "code",
   "execution_count": 38,
   "metadata": {},
   "outputs": [
    {
     "data": {
      "text/plain": [
       "<matplotlib.axes._subplots.AxesSubplot at 0x1b5fd0f9b0>"
      ]
     },
     "execution_count": 38,
     "metadata": {},
     "output_type": "execute_result"
    },
    {
     "data": {
      "image/png": "[encoded data removed]",
      "text/plain": [
       "<Figure size 576x576 with 1 Axes>"
      ]
     },
     "metadata": {
      "needs_background": "light"
     },
     "output_type": "display_data"
    }
   ],
   "source": [
    "fig, ax = plt.subplots(1, figsize=(8,8))\n",
    "xgb.plot_importance(model,ax)"
   ]
  },
  {
   "cell_type": "code",
   "execution_count": 52,
   "metadata": {},
   "outputs": [
    {
     "name": "stdout",
     "output_type": "stream",
     "text": [
      "<class 'pandas.core.frame.DataFrame'>\n",
      "RangeIndex: 2528243 entries, 0 to 2528242\n",
      "Data columns (total 38 columns):\n",
      "month                        int64\n",
      "day                          int64\n",
      "hour                         int64\n",
      "minute                       int64\n",
      "dayofweek                    int64\n",
      "quarter                      int64\n",
      "id                           int64\n",
      "site_name                    int64\n",
      "posa_continent               int64\n",
      "user_location_country        int64\n",
      "user_location_region         int64\n",
      "user_location_city           int64\n",
      "orig_destination_distance    float64\n",
      "user_id                      int64\n",
      "is_mobile                    int64\n",
      "is_package                   int64\n",
      "channel                      int64\n",
      "srch_adults_cnt              int64\n",
      "srch_children_cnt            int64\n",
      "srch_rm_cnt                  int64\n",
      "srch_destination_id          int64\n",
      "srch_destination_type_id     int64\n",
      "hotel_continent              int64\n",
      "hotel_country                int64\n",
      "hotel_market                 int64\n",
      "ci_month                     float64\n",
      "co_month                     float64\n",
      "ci_day                       float64\n",
      "co_day                       float64\n",
      "ci_dayofweek                 float64\n",
      "co_dayofweek                 float64\n",
      "ci_quarter                   float64\n",
      "co_quarter                   float64\n",
      "stay_span                    float64\n",
      "0                            float64\n",
      "1                            float64\n",
      "2                            float64\n",
      "3                            float64\n",
      "dtypes: float64(14), int64(24)\n",
      "memory usage: 733.0 MB\n"
     ]
    }
   ],
   "source": [
    "test_df.info(verbose=True)"
   ]
  },
  {
   "cell_type": "markdown",
   "metadata": {},
   "source": [
    "# Test file to JSON for GCP online prediction"
   ]
  },
  {
   "cell_type": "code",
   "execution_count": 206,
   "metadata": {},
   "outputs": [
    {
     "data": {
      "text/plain": [
       "(2528243, 23)"
      ]
     },
     "execution_count": 206,
     "metadata": {},
     "output_type": "execute_result"
    }
   ],
   "source": [
    "test_df.shape"
   ]
  },
  {
   "cell_type": "code",
   "execution_count": 194,
   "metadata": {},
   "outputs": [
    {
     "name": "stdout",
     "output_type": "stream",
     "text": [
      "<class 'pandas.core.frame.DataFrame'>\n",
      "RangeIndex: 2528243 entries, 0 to 2528242\n",
      "Data columns (total 24 columns):\n",
      "id                           int64\n",
      "date_time                    datetime64[ns]\n",
      "site_name                    int64\n",
      "posa_continent               int64\n",
      "user_location_country        int64\n",
      "user_location_region         int64\n",
      "user_location_city           int64\n",
      "orig_destination_distance    float64\n",
      "user_id                      int64\n",
      "is_mobile                    int64\n",
      "is_package                   int64\n",
      "channel                      int64\n",
      "srch_ci                      object\n",
      "srch_co                      object\n",
      "srch_adults_cnt              int64\n",
      "srch_children_cnt            int64\n",
      "srch_rm_cnt                  int64\n",
      "srch_destination_id          int64\n",
      "srch_destination_type_id     int64\n",
      "hotel_continent              int64\n",
      "hotel_country                int64\n",
      "hotel_market                 int64\n",
      "year                         int64\n",
      "month                        int64\n",
      "dtypes: datetime64[ns](1), float64(1), int64(20), object(2)\n",
      "memory usage: 462.9+ MB\n"
     ]
    }
   ],
   "source": [
    "test_df.info(verbose=True)"
   ]
  },
  {
   "cell_type": "code",
   "execution_count": 209,
   "metadata": {},
   "outputs": [],
   "source": [
    "def iterndjson(df):\n",
    "    generator = df.iterrows()\n",
    "    ndjson = []\n",
    "    row = True\n",
    "    while row:\n",
    "        try:\n",
    "            row = next(generator)\n",
    "            ndjson.append(row[1].to_dict())\n",
    "        except StopIteration:\n",
    "            row = None\n",
    "\n",
    "    return ndjson"
   ]
  },
  {
   "cell_type": "code",
   "execution_count": 212,
   "metadata": {},
   "outputs": [
    {
     "data": {
      "text/plain": [
       "[{'month': 9.0,\n",
       "  'day': 3.0,\n",
       "  'hour': 17.0,\n",
       "  'minute': 9.0,\n",
       "  'dayofweek': 3.0,\n",
       "  'quarter': 3.0,\n",
       "  'site_name': 2.0,\n",
       "  'posa_continent': 3.0,\n",
       "  'user_location_country': 66.0,\n",
       "  'user_location_region': 174.0,\n",
       "  'user_location_city': 37449.0,\n",
       "  'orig_destination_distance': 5539.0567,\n",
       "  'user_id': 1.0,\n",
       "  'is_mobile': 1.0,\n",
       "  'is_package': 0.0,\n",
       "  'channel': 3.0,\n",
       "  'srch_adults_cnt': 2.0,\n",
       "  'srch_children_cnt': 0.0,\n",
       "  'srch_rm_cnt': 1.0,\n",
       "  'srch_destination_id': 12243.0,\n",
       "  'srch_destination_type_id': 6.0,\n",
       "  'hotel_continent': 6.0,\n",
       "  'hotel_country': 204.0,\n",
       "  'hotel_market': 27.0,\n",
       "  'year': 2015.0,\n",
       "  'ci_month': 5.0,\n",
       "  'co_month': 5.0,\n",
       "  'ci_day': 19.0,\n",
       "  'co_day': 23.0,\n",
       "  'ci_dayofweek': 3.0,\n",
       "  'co_dayofweek': 0.0,\n",
       "  'ci_quarter': 2.0,\n",
       "  'co_quarter': 2.0,\n",
       "  'stay_span': 96.0,\n",
       "  0: -0.4829671095997112,\n",
       "  1: 0.030326681949422556,\n",
       "  2: -0.01946787398364762,\n",
       "  3: -0.002868623054535222},\n",
       " {'month': 9.0,\n",
       "  'day': 24.0,\n",
       "  'hour': 17.0,\n",
       "  'minute': 38.0,\n",
       "  'dayofweek': 3.0,\n",
       "  'quarter': 3.0,\n",
       "  'site_name': 2.0,\n",
       "  'posa_continent': 3.0,\n",
       "  'user_location_country': 66.0,\n",
       "  'user_location_region': 174.0,\n",
       "  'user_location_city': 37449.0,\n",
       "  'orig_destination_distance': 5873.2923,\n",
       "  'user_id': 1.0,\n",
       "  'is_mobile': 1.0,\n",
       "  'is_package': 0.0,\n",
       "  'channel': 10.0,\n",
       "  'srch_adults_cnt': 2.0,\n",
       "  'srch_children_cnt': 0.0,\n",
       "  'srch_rm_cnt': 1.0,\n",
       "  'srch_destination_id': 14474.0,\n",
       "  'srch_destination_type_id': 7.0,\n",
       "  'hotel_continent': 6.0,\n",
       "  'hotel_country': 204.0,\n",
       "  'hotel_market': 1540.0,\n",
       "  'year': 2015.0,\n",
       "  'ci_month': 5.0,\n",
       "  'co_month': 5.0,\n",
       "  'ci_day': 12.0,\n",
       "  'co_day': 15.0,\n",
       "  'ci_dayofweek': 3.0,\n",
       "  'co_dayofweek': 6.0,\n",
       "  'ci_quarter': 2.0,\n",
       "  'co_quarter': 2.0,\n",
       "  'stay_span': 72.0,\n",
       "  0: -0.16249407865792703,\n",
       "  1: -0.07522693349089037,\n",
       "  2: -0.03516305873434583,\n",
       "  3: 0.07833523892090864},\n",
       " {'month': 6.0,\n",
       "  'day': 7.0,\n",
       "  'hour': 15.0,\n",
       "  'minute': 53.0,\n",
       "  'dayofweek': 6.0,\n",
       "  'quarter': 2.0,\n",
       "  'site_name': 2.0,\n",
       "  'posa_continent': 3.0,\n",
       "  'user_location_country': 66.0,\n",
       "  'user_location_region': 142.0,\n",
       "  'user_location_city': 17440.0,\n",
       "  'orig_destination_distance': 3975.9776,\n",
       "  'user_id': 20.0,\n",
       "  'is_mobile': 0.0,\n",
       "  'is_package': 0.0,\n",
       "  'channel': 1.0,\n",
       "  'srch_adults_cnt': 4.0,\n",
       "  'srch_children_cnt': 0.0,\n",
       "  'srch_rm_cnt': 1.0,\n",
       "  'srch_destination_id': 11353.0,\n",
       "  'srch_destination_type_id': 1.0,\n",
       "  'hotel_continent': 2.0,\n",
       "  'hotel_country': 50.0,\n",
       "  'hotel_market': 699.0,\n",
       "  'year': 2015.0,\n",
       "  'ci_month': 7.0,\n",
       "  'co_month': 7.0,\n",
       "  'ci_day': 26.0,\n",
       "  'co_day': 27.0,\n",
       "  'ci_dayofweek': 6.0,\n",
       "  'co_dayofweek': 0.0,\n",
       "  'ci_quarter': 3.0,\n",
       "  'co_quarter': 3.0,\n",
       "  'stay_span': 24.0,\n",
       "  0: 0.06931311041441825,\n",
       "  1: 0.5169808889371624,\n",
       "  2: -0.0246284258218789,\n",
       "  3: 0.006812108775130528},\n",
       " {'month': 9.0,\n",
       "  'day': 14.0,\n",
       "  'hour': 14.0,\n",
       "  'minute': 49.0,\n",
       "  'dayofweek': 0.0,\n",
       "  'quarter': 3.0,\n",
       "  'site_name': 2.0,\n",
       "  'posa_continent': 3.0,\n",
       "  'user_location_country': 66.0,\n",
       "  'user_location_region': 258.0,\n",
       "  'user_location_city': 34156.0,\n",
       "  'orig_destination_distance': 1508.5975,\n",
       "  'user_id': 28.0,\n",
       "  'is_mobile': 0.0,\n",
       "  'is_package': 1.0,\n",
       "  'channel': 10.0,\n",
       "  'srch_adults_cnt': 2.0,\n",
       "  'srch_children_cnt': 0.0,\n",
       "  'srch_rm_cnt': 1.0,\n",
       "  'srch_destination_id': 8250.0,\n",
       "  'srch_destination_type_id': 1.0,\n",
       "  'hotel_continent': 2.0,\n",
       "  'hotel_country': 50.0,\n",
       "  'hotel_market': 628.0,\n",
       "  'year': 2015.0,\n",
       "  'ci_month': 9.0,\n",
       "  'co_month': 9.0,\n",
       "  'ci_day': 14.0,\n",
       "  'co_day': 16.0,\n",
       "  'ci_dayofweek': 0.0,\n",
       "  'co_dayofweek': 2.0,\n",
       "  'ci_quarter': 3.0,\n",
       "  'co_quarter': 3.0,\n",
       "  'stay_span': 48.0,\n",
       "  0: 0.41829969613441725,\n",
       "  1: -0.05986345074016775,\n",
       "  2: 0.2779639387789721,\n",
       "  3: 0.08113344348117835},\n",
       " {'month': 7.0,\n",
       "  'day': 17.0,\n",
       "  'hour': 9.0,\n",
       "  'minute': 32.0,\n",
       "  'dayofweek': 4.0,\n",
       "  'quarter': 3.0,\n",
       "  'site_name': 2.0,\n",
       "  'posa_continent': 3.0,\n",
       "  'user_location_country': 66.0,\n",
       "  'user_location_region': 467.0,\n",
       "  'user_location_city': 36345.0,\n",
       "  'orig_destination_distance': 66.7913,\n",
       "  'user_id': 50.0,\n",
       "  'is_mobile': 0.0,\n",
       "  'is_package': 0.0,\n",
       "  'channel': 0.0,\n",
       "  'srch_adults_cnt': 2.0,\n",
       "  'srch_children_cnt': 0.0,\n",
       "  'srch_rm_cnt': 1.0,\n",
       "  'srch_destination_id': 11812.0,\n",
       "  'srch_destination_type_id': 1.0,\n",
       "  'hotel_continent': 2.0,\n",
       "  'hotel_country': 50.0,\n",
       "  'hotel_market': 538.0,\n",
       "  'year': 2015.0,\n",
       "  'ci_month': 7.0,\n",
       "  'co_month': 7.0,\n",
       "  'ci_day': 22.0,\n",
       "  'co_day': 23.0,\n",
       "  'ci_dayofweek': 2.0,\n",
       "  'co_dayofweek': 3.0,\n",
       "  'ci_quarter': 3.0,\n",
       "  'co_quarter': 3.0,\n",
       "  'stay_span': 24.0,\n",
       "  0: 0.7496741477330822,\n",
       "  1: -0.2881209769339459,\n",
       "  2: -0.3283760398692707,\n",
       "  3: -0.03544316624188145}]"
      ]
     },
     "execution_count": 212,
     "metadata": {},
     "output_type": "execute_result"
    }
   ],
   "source": [
    "iterndjson(test_final_df.iloc[:5])"
   ]
  },
  {
   "cell_type": "code",
   "execution_count": 202,
   "metadata": {},
   "outputs": [],
   "source": [
    "test_df.drop('id', axis=1, inplace=True)"
   ]
  },
  {
   "cell_type": "code",
   "execution_count": 196,
   "metadata": {},
   "outputs": [
    {
     "name": "stdout",
     "output_type": "stream",
     "text": [
      "date_time\n",
      "srch_ci\n",
      "srch_co\n"
     ]
    }
   ],
   "source": [
    "for c in test_df.columns:\n",
    "    if c not in train.columns:\n",
    "        print(c)"
   ]
  },
  {
   "cell_type": "code",
   "execution_count": 203,
   "metadata": {},
   "outputs": [],
   "source": [
    "test_final_df = feature_generation(test_df)\n",
    "# y_test = test_df.pop('hotel_cluster')"
   ]
  },
  {
   "cell_type": "code",
   "execution_count": 174,
   "metadata": {},
   "outputs": [],
   "source": [
    "test_df.to_json('../data/test.json', orient='values')\n",
    "# y_test.to_json('../data/actual.json', orient='values')"
   ]
  },
  {
   "cell_type": "code",
   "execution_count": 176,
   "metadata": {},
   "outputs": [],
   "source": [
    "test_df.iloc[0].to_json('../data/test_1.json', orient='values')\n",
    "# test_df.iloc[0].to_json('../data/test_1.json', orient='values')"
   ]
  },
  {
   "cell_type": "code",
   "execution_count": 208,
   "metadata": {},
   "outputs": [],
   "source": [
    "# test_df.iloc[:5].to_json('../data/test_5.json', orient='values')\n",
    "with open('../data/test_5.txt', 'w') as f:\n",
    "    for item in test_final_df.values[:5]:\n",
    "        f.write(\"{}\\n\" .format(item))"
   ]
  },
  {
   "cell_type": "code",
   "execution_count": 207,
   "metadata": {},
   "outputs": [
    {
     "data": {
      "text/html": [
       "<div>\n",
       "<style scoped>\n",
       "    .dataframe tbody tr th:only-of-type {\n",
       "        vertical-align: middle;\n",
       "    }\n",
       "\n",
       "    .dataframe tbody tr th {\n",
       "        vertical-align: top;\n",
       "    }\n",
       "\n",
       "    .dataframe thead th {\n",
       "        text-align: right;\n",
       "    }\n",
       "</style>\n",
       "<table border=\"1\" class=\"dataframe\">\n",
       "  <thead>\n",
       "    <tr style=\"text-align: right;\">\n",
       "      <th></th>\n",
       "      <th>month</th>\n",
       "      <th>day</th>\n",
       "      <th>hour</th>\n",
       "      <th>minute</th>\n",
       "      <th>dayofweek</th>\n",
       "      <th>quarter</th>\n",
       "      <th>site_name</th>\n",
       "      <th>posa_continent</th>\n",
       "      <th>user_location_country</th>\n",
       "      <th>user_location_region</th>\n",
       "      <th>...</th>\n",
       "      <th>co_day</th>\n",
       "      <th>ci_dayofweek</th>\n",
       "      <th>co_dayofweek</th>\n",
       "      <th>ci_quarter</th>\n",
       "      <th>co_quarter</th>\n",
       "      <th>stay_span</th>\n",
       "      <th>0</th>\n",
       "      <th>1</th>\n",
       "      <th>2</th>\n",
       "      <th>3</th>\n",
       "    </tr>\n",
       "  </thead>\n",
       "  <tbody>\n",
       "    <tr>\n",
       "      <th>0</th>\n",
       "      <td>9</td>\n",
       "      <td>3</td>\n",
       "      <td>17</td>\n",
       "      <td>9</td>\n",
       "      <td>3</td>\n",
       "      <td>3</td>\n",
       "      <td>2</td>\n",
       "      <td>3</td>\n",
       "      <td>66</td>\n",
       "      <td>174</td>\n",
       "      <td>...</td>\n",
       "      <td>23.0</td>\n",
       "      <td>3.0</td>\n",
       "      <td>0.0</td>\n",
       "      <td>2.0</td>\n",
       "      <td>2.0</td>\n",
       "      <td>96.0</td>\n",
       "      <td>-0.482967</td>\n",
       "      <td>0.030327</td>\n",
       "      <td>-0.019468</td>\n",
       "      <td>-0.002869</td>\n",
       "    </tr>\n",
       "    <tr>\n",
       "      <th>1</th>\n",
       "      <td>9</td>\n",
       "      <td>24</td>\n",
       "      <td>17</td>\n",
       "      <td>38</td>\n",
       "      <td>3</td>\n",
       "      <td>3</td>\n",
       "      <td>2</td>\n",
       "      <td>3</td>\n",
       "      <td>66</td>\n",
       "      <td>174</td>\n",
       "      <td>...</td>\n",
       "      <td>15.0</td>\n",
       "      <td>3.0</td>\n",
       "      <td>6.0</td>\n",
       "      <td>2.0</td>\n",
       "      <td>2.0</td>\n",
       "      <td>72.0</td>\n",
       "      <td>-0.162494</td>\n",
       "      <td>-0.075227</td>\n",
       "      <td>-0.035163</td>\n",
       "      <td>0.078335</td>\n",
       "    </tr>\n",
       "    <tr>\n",
       "      <th>2</th>\n",
       "      <td>6</td>\n",
       "      <td>7</td>\n",
       "      <td>15</td>\n",
       "      <td>53</td>\n",
       "      <td>6</td>\n",
       "      <td>2</td>\n",
       "      <td>2</td>\n",
       "      <td>3</td>\n",
       "      <td>66</td>\n",
       "      <td>142</td>\n",
       "      <td>...</td>\n",
       "      <td>27.0</td>\n",
       "      <td>6.0</td>\n",
       "      <td>0.0</td>\n",
       "      <td>3.0</td>\n",
       "      <td>3.0</td>\n",
       "      <td>24.0</td>\n",
       "      <td>0.069313</td>\n",
       "      <td>0.516981</td>\n",
       "      <td>-0.024628</td>\n",
       "      <td>0.006812</td>\n",
       "    </tr>\n",
       "    <tr>\n",
       "      <th>3</th>\n",
       "      <td>9</td>\n",
       "      <td>14</td>\n",
       "      <td>14</td>\n",
       "      <td>49</td>\n",
       "      <td>0</td>\n",
       "      <td>3</td>\n",
       "      <td>2</td>\n",
       "      <td>3</td>\n",
       "      <td>66</td>\n",
       "      <td>258</td>\n",
       "      <td>...</td>\n",
       "      <td>16.0</td>\n",
       "      <td>0.0</td>\n",
       "      <td>2.0</td>\n",
       "      <td>3.0</td>\n",
       "      <td>3.0</td>\n",
       "      <td>48.0</td>\n",
       "      <td>0.418300</td>\n",
       "      <td>-0.059863</td>\n",
       "      <td>0.277964</td>\n",
       "      <td>0.081133</td>\n",
       "    </tr>\n",
       "    <tr>\n",
       "      <th>4</th>\n",
       "      <td>7</td>\n",
       "      <td>17</td>\n",
       "      <td>9</td>\n",
       "      <td>32</td>\n",
       "      <td>4</td>\n",
       "      <td>3</td>\n",
       "      <td>2</td>\n",
       "      <td>3</td>\n",
       "      <td>66</td>\n",
       "      <td>467</td>\n",
       "      <td>...</td>\n",
       "      <td>23.0</td>\n",
       "      <td>2.0</td>\n",
       "      <td>3.0</td>\n",
       "      <td>3.0</td>\n",
       "      <td>3.0</td>\n",
       "      <td>24.0</td>\n",
       "      <td>0.749674</td>\n",
       "      <td>-0.288121</td>\n",
       "      <td>-0.328376</td>\n",
       "      <td>-0.035443</td>\n",
       "    </tr>\n",
       "  </tbody>\n",
       "</table>\n",
       "<p>5 rows × 38 columns</p>\n",
       "</div>"
      ],
      "text/plain": [
       "   month  day  hour  minute  dayofweek  quarter  site_name  posa_continent  \\\n",
       "0      9    3    17       9          3        3          2               3   \n",
       "1      9   24    17      38          3        3          2               3   \n",
       "2      6    7    15      53          6        2          2               3   \n",
       "3      9   14    14      49          0        3          2               3   \n",
       "4      7   17     9      32          4        3          2               3   \n",
       "\n",
       "   user_location_country  user_location_region    ...     co_day  \\\n",
       "0                     66                   174    ...       23.0   \n",
       "1                     66                   174    ...       15.0   \n",
       "2                     66                   142    ...       27.0   \n",
       "3                     66                   258    ...       16.0   \n",
       "4                     66                   467    ...       23.0   \n",
       "\n",
       "   ci_dayofweek  co_dayofweek  ci_quarter  co_quarter  stay_span         0  \\\n",
       "0           3.0           0.0         2.0         2.0       96.0 -0.482967   \n",
       "1           3.0           6.0         2.0         2.0       72.0 -0.162494   \n",
       "2           6.0           0.0         3.0         3.0       24.0  0.069313   \n",
       "3           0.0           2.0         3.0         3.0       48.0  0.418300   \n",
       "4           2.0           3.0         3.0         3.0       24.0  0.749674   \n",
       "\n",
       "          1         2         3  \n",
       "0  0.030327 -0.019468 -0.002869  \n",
       "1 -0.075227 -0.035163  0.078335  \n",
       "2  0.516981 -0.024628  0.006812  \n",
       "3 -0.059863  0.277964  0.081133  \n",
       "4 -0.288121 -0.328376 -0.035443  \n",
       "\n",
       "[5 rows x 38 columns]"
      ]
     },
     "execution_count": 207,
     "metadata": {},
     "output_type": "execute_result"
    }
   ],
   "source": [
    "test_final_df.iloc[:5]"
   ]
  },
  {
   "cell_type": "code",
   "execution_count": null,
   "metadata": {},
   "outputs": [],
   "source": []
  }
 ],
 "metadata": {
  "kernelspec": {
   "display_name": "Python 3",
   "language": "python",
   "name": "python3"
  },
  "language_info": {
   "codemirror_mode": {
    "name": "ipython",
    "version": 3
   },
   "file_extension": ".py",
   "mimetype": "text/x-python",
   "name": "python",
   "nbconvert_exporter": "python",
   "pygments_lexer": "ipython3",
   "version": "3.6.6"
  }
 },
 "nbformat": 4,
 "nbformat_minor": 2
}
